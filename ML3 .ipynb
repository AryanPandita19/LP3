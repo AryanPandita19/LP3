{
 "cells": [
  {
   "cell_type": "code",
   "execution_count": 1,
   "id": "a9ed43fe",
   "metadata": {
    "_cell_guid": "b1076dfc-b9ad-4769-8c92-a6c4dae69d19",
    "_uuid": "8f2839f25d086af736a60e9eeb907d3b93b6e0e5",
    "execution": {
     "iopub.execute_input": "2023-11-01T18:37:20.615084Z",
     "iopub.status.busy": "2023-11-01T18:37:20.614245Z",
     "iopub.status.idle": "2023-11-01T18:37:33.061926Z",
     "shell.execute_reply": "2023-11-01T18:37:33.060580Z"
    },
    "papermill": {
     "duration": 12.462573,
     "end_time": "2023-11-01T18:37:33.064755",
     "exception": false,
     "start_time": "2023-11-01T18:37:20.602182",
     "status": "completed"
    },
    "tags": []
   },
   "outputs": [
    {
     "name": "stdout",
     "output_type": "stream",
     "text": [
      "/kaggle/input/bank-customer-churn-modeling/Churn_Modelling.csv\n"
     ]
    }
   ],
   "source": [
    "# This Python 3 environment comes with many helpful analytics libraries installed\n",
    "# It is defined by the kaggle/python Docker image: https://github.com/kaggle/docker-python\n",
    "# For example, here's several helpful packages to load\n",
    "\n",
    "import numpy as np # linear algebra\n",
    "import pandas as pd # data processing, CSV file I/O (e.g. pd.read_csv)\n",
    "import matplotlib.pyplot as plt\n",
    "import seaborn as sns\n",
    "import tensorflow\n",
    "from tensorflow import keras\n",
    "from keras import Sequential\n",
    "from keras.layers import Dense,Dropout\n",
    "from sklearn.preprocessing import MinMaxScaler\n",
    "from imblearn.over_sampling import SMOTE\n",
    "from sklearn.model_selection import train_test_split\n",
    "from sklearn.metrics import classification_report,confusion_matrix\n",
    "\n",
    "# Input data files are available in the read-only \"../input/\" directory\n",
    "# For example, running this (by clicking run or pressing Shift+Enter) will list all files under the input directory\n",
    "\n",
    "import os\n",
    "for dirname, _, filenames in os.walk('/kaggle/input'):\n",
    "    for filename in filenames:\n",
    "        print(os.path.join(dirname, filename))\n",
    "\n",
    "# You can write up to 20GB to the current directory (/kaggle/working/) that gets preserved as output when you create a version using \"Save & Run All\" \n",
    "# You can also write temporary files to /kaggle/temp/, but they won't be saved outside of the current session"
   ]
  },
  {
   "cell_type": "code",
   "execution_count": 2,
   "id": "ae07705b",
   "metadata": {
    "execution": {
     "iopub.execute_input": "2023-11-01T18:37:33.086636Z",
     "iopub.status.busy": "2023-11-01T18:37:33.085920Z",
     "iopub.status.idle": "2023-11-01T18:37:33.138919Z",
     "shell.execute_reply": "2023-11-01T18:37:33.137721Z"
    },
    "papermill": {
     "duration": 0.066672,
     "end_time": "2023-11-01T18:37:33.141465",
     "exception": false,
     "start_time": "2023-11-01T18:37:33.074793",
     "status": "completed"
    },
    "tags": []
   },
   "outputs": [
    {
     "name": "stdout",
     "output_type": "stream",
     "text": [
      "(10000, 14)\n"
     ]
    }
   ],
   "source": [
    "df = pd.read_csv('/kaggle/input/bank-customer-churn-modeling/Churn_Modelling.csv')\n",
    "print(df.shape)"
   ]
  },
  {
   "cell_type": "code",
   "execution_count": 3,
   "id": "96feb836",
   "metadata": {
    "execution": {
     "iopub.execute_input": "2023-11-01T18:37:33.163706Z",
     "iopub.status.busy": "2023-11-01T18:37:33.162660Z",
     "iopub.status.idle": "2023-11-01T18:37:33.191412Z",
     "shell.execute_reply": "2023-11-01T18:37:33.190214Z"
    },
    "papermill": {
     "duration": 0.042557,
     "end_time": "2023-11-01T18:37:33.194079",
     "exception": false,
     "start_time": "2023-11-01T18:37:33.151522",
     "status": "completed"
    },
    "tags": []
   },
   "outputs": [
    {
     "data": {
      "text/html": [
       "<div>\n",
       "<style scoped>\n",
       "    .dataframe tbody tr th:only-of-type {\n",
       "        vertical-align: middle;\n",
       "    }\n",
       "\n",
       "    .dataframe tbody tr th {\n",
       "        vertical-align: top;\n",
       "    }\n",
       "\n",
       "    .dataframe thead th {\n",
       "        text-align: right;\n",
       "    }\n",
       "</style>\n",
       "<table border=\"1\" class=\"dataframe\">\n",
       "  <thead>\n",
       "    <tr style=\"text-align: right;\">\n",
       "      <th></th>\n",
       "      <th>RowNumber</th>\n",
       "      <th>CustomerId</th>\n",
       "      <th>Surname</th>\n",
       "      <th>CreditScore</th>\n",
       "      <th>Geography</th>\n",
       "      <th>Gender</th>\n",
       "      <th>Age</th>\n",
       "      <th>Tenure</th>\n",
       "      <th>Balance</th>\n",
       "      <th>NumOfProducts</th>\n",
       "      <th>HasCrCard</th>\n",
       "      <th>IsActiveMember</th>\n",
       "      <th>EstimatedSalary</th>\n",
       "      <th>Exited</th>\n",
       "    </tr>\n",
       "  </thead>\n",
       "  <tbody>\n",
       "    <tr>\n",
       "      <th>0</th>\n",
       "      <td>1</td>\n",
       "      <td>15634602</td>\n",
       "      <td>Hargrave</td>\n",
       "      <td>619</td>\n",
       "      <td>France</td>\n",
       "      <td>Female</td>\n",
       "      <td>42</td>\n",
       "      <td>2</td>\n",
       "      <td>0.00</td>\n",
       "      <td>1</td>\n",
       "      <td>1</td>\n",
       "      <td>1</td>\n",
       "      <td>101348.88</td>\n",
       "      <td>1</td>\n",
       "    </tr>\n",
       "    <tr>\n",
       "      <th>1</th>\n",
       "      <td>2</td>\n",
       "      <td>15647311</td>\n",
       "      <td>Hill</td>\n",
       "      <td>608</td>\n",
       "      <td>Spain</td>\n",
       "      <td>Female</td>\n",
       "      <td>41</td>\n",
       "      <td>1</td>\n",
       "      <td>83807.86</td>\n",
       "      <td>1</td>\n",
       "      <td>0</td>\n",
       "      <td>1</td>\n",
       "      <td>112542.58</td>\n",
       "      <td>0</td>\n",
       "    </tr>\n",
       "    <tr>\n",
       "      <th>2</th>\n",
       "      <td>3</td>\n",
       "      <td>15619304</td>\n",
       "      <td>Onio</td>\n",
       "      <td>502</td>\n",
       "      <td>France</td>\n",
       "      <td>Female</td>\n",
       "      <td>42</td>\n",
       "      <td>8</td>\n",
       "      <td>159660.80</td>\n",
       "      <td>3</td>\n",
       "      <td>1</td>\n",
       "      <td>0</td>\n",
       "      <td>113931.57</td>\n",
       "      <td>1</td>\n",
       "    </tr>\n",
       "    <tr>\n",
       "      <th>3</th>\n",
       "      <td>4</td>\n",
       "      <td>15701354</td>\n",
       "      <td>Boni</td>\n",
       "      <td>699</td>\n",
       "      <td>France</td>\n",
       "      <td>Female</td>\n",
       "      <td>39</td>\n",
       "      <td>1</td>\n",
       "      <td>0.00</td>\n",
       "      <td>2</td>\n",
       "      <td>0</td>\n",
       "      <td>0</td>\n",
       "      <td>93826.63</td>\n",
       "      <td>0</td>\n",
       "    </tr>\n",
       "    <tr>\n",
       "      <th>4</th>\n",
       "      <td>5</td>\n",
       "      <td>15737888</td>\n",
       "      <td>Mitchell</td>\n",
       "      <td>850</td>\n",
       "      <td>Spain</td>\n",
       "      <td>Female</td>\n",
       "      <td>43</td>\n",
       "      <td>2</td>\n",
       "      <td>125510.82</td>\n",
       "      <td>1</td>\n",
       "      <td>1</td>\n",
       "      <td>1</td>\n",
       "      <td>79084.10</td>\n",
       "      <td>0</td>\n",
       "    </tr>\n",
       "  </tbody>\n",
       "</table>\n",
       "</div>"
      ],
      "text/plain": [
       "   RowNumber  CustomerId   Surname  CreditScore Geography  Gender  Age  \\\n",
       "0          1    15634602  Hargrave          619    France  Female   42   \n",
       "1          2    15647311      Hill          608     Spain  Female   41   \n",
       "2          3    15619304      Onio          502    France  Female   42   \n",
       "3          4    15701354      Boni          699    France  Female   39   \n",
       "4          5    15737888  Mitchell          850     Spain  Female   43   \n",
       "\n",
       "   Tenure    Balance  NumOfProducts  HasCrCard  IsActiveMember  \\\n",
       "0       2       0.00              1          1               1   \n",
       "1       1   83807.86              1          0               1   \n",
       "2       8  159660.80              3          1               0   \n",
       "3       1       0.00              2          0               0   \n",
       "4       2  125510.82              1          1               1   \n",
       "\n",
       "   EstimatedSalary  Exited  \n",
       "0        101348.88       1  \n",
       "1        112542.58       0  \n",
       "2        113931.57       1  \n",
       "3         93826.63       0  \n",
       "4         79084.10       0  "
      ]
     },
     "execution_count": 3,
     "metadata": {},
     "output_type": "execute_result"
    }
   ],
   "source": [
    "df.head()"
   ]
  },
  {
   "cell_type": "code",
   "execution_count": 4,
   "id": "952b2e88",
   "metadata": {
    "execution": {
     "iopub.execute_input": "2023-11-01T18:37:33.216921Z",
     "iopub.status.busy": "2023-11-01T18:37:33.216095Z",
     "iopub.status.idle": "2023-11-01T18:37:33.231535Z",
     "shell.execute_reply": "2023-11-01T18:37:33.230203Z"
    },
    "papermill": {
     "duration": 0.029374,
     "end_time": "2023-11-01T18:37:33.234003",
     "exception": false,
     "start_time": "2023-11-01T18:37:33.204629",
     "status": "completed"
    },
    "tags": []
   },
   "outputs": [],
   "source": [
    "df.drop(['RowNumber','CustomerId','Surname'],axis=1,inplace=True)"
   ]
  },
  {
   "cell_type": "code",
   "execution_count": 5,
   "id": "8ba8b9c9",
   "metadata": {
    "execution": {
     "iopub.execute_input": "2023-11-01T18:37:33.255956Z",
     "iopub.status.busy": "2023-11-01T18:37:33.255597Z",
     "iopub.status.idle": "2023-11-01T18:37:33.282118Z",
     "shell.execute_reply": "2023-11-01T18:37:33.280544Z"
    },
    "papermill": {
     "duration": 0.040244,
     "end_time": "2023-11-01T18:37:33.284553",
     "exception": false,
     "start_time": "2023-11-01T18:37:33.244309",
     "status": "completed"
    },
    "tags": []
   },
   "outputs": [
    {
     "name": "stdout",
     "output_type": "stream",
     "text": [
      "<class 'pandas.core.frame.DataFrame'>\n",
      "RangeIndex: 10000 entries, 0 to 9999\n",
      "Data columns (total 11 columns):\n",
      " #   Column           Non-Null Count  Dtype  \n",
      "---  ------           --------------  -----  \n",
      " 0   CreditScore      10000 non-null  int64  \n",
      " 1   Geography        10000 non-null  object \n",
      " 2   Gender           10000 non-null  object \n",
      " 3   Age              10000 non-null  int64  \n",
      " 4   Tenure           10000 non-null  int64  \n",
      " 5   Balance          10000 non-null  float64\n",
      " 6   NumOfProducts    10000 non-null  int64  \n",
      " 7   HasCrCard        10000 non-null  int64  \n",
      " 8   IsActiveMember   10000 non-null  int64  \n",
      " 9   EstimatedSalary  10000 non-null  float64\n",
      " 10  Exited           10000 non-null  int64  \n",
      "dtypes: float64(2), int64(7), object(2)\n",
      "memory usage: 859.5+ KB\n"
     ]
    }
   ],
   "source": [
    "df.info()"
   ]
  },
  {
   "cell_type": "code",
   "execution_count": 6,
   "id": "b91f6b86",
   "metadata": {
    "execution": {
     "iopub.execute_input": "2023-11-01T18:37:33.307657Z",
     "iopub.status.busy": "2023-11-01T18:37:33.306295Z",
     "iopub.status.idle": "2023-11-01T18:37:33.317975Z",
     "shell.execute_reply": "2023-11-01T18:37:33.316683Z"
    },
    "papermill": {
     "duration": 0.02566,
     "end_time": "2023-11-01T18:37:33.320461",
     "exception": false,
     "start_time": "2023-11-01T18:37:33.294801",
     "status": "completed"
    },
    "tags": []
   },
   "outputs": [
    {
     "data": {
      "text/plain": [
       "Geography\n",
       "France     5014\n",
       "Germany    2509\n",
       "Spain      2477\n",
       "Name: count, dtype: int64"
      ]
     },
     "execution_count": 6,
     "metadata": {},
     "output_type": "execute_result"
    }
   ],
   "source": [
    "df['Geography'].value_counts()"
   ]
  },
  {
   "cell_type": "code",
   "execution_count": 7,
   "id": "e331206b",
   "metadata": {
    "execution": {
     "iopub.execute_input": "2023-11-01T18:37:33.343057Z",
     "iopub.status.busy": "2023-11-01T18:37:33.342598Z",
     "iopub.status.idle": "2023-11-01T18:37:33.353759Z",
     "shell.execute_reply": "2023-11-01T18:37:33.352560Z"
    },
    "papermill": {
     "duration": 0.025089,
     "end_time": "2023-11-01T18:37:33.355986",
     "exception": false,
     "start_time": "2023-11-01T18:37:33.330897",
     "status": "completed"
    },
    "tags": []
   },
   "outputs": [
    {
     "data": {
      "text/plain": [
       "Gender\n",
       "Male      5457\n",
       "Female    4543\n",
       "Name: count, dtype: int64"
      ]
     },
     "execution_count": 7,
     "metadata": {},
     "output_type": "execute_result"
    }
   ],
   "source": [
    "df['Gender'].value_counts()"
   ]
  },
  {
   "cell_type": "code",
   "execution_count": 8,
   "id": "516f1e46",
   "metadata": {
    "execution": {
     "iopub.execute_input": "2023-11-01T18:37:33.378943Z",
     "iopub.status.busy": "2023-11-01T18:37:33.378402Z",
     "iopub.status.idle": "2023-11-01T18:37:33.388244Z",
     "shell.execute_reply": "2023-11-01T18:37:33.387072Z"
    },
    "papermill": {
     "duration": 0.024728,
     "end_time": "2023-11-01T18:37:33.391205",
     "exception": false,
     "start_time": "2023-11-01T18:37:33.366477",
     "status": "completed"
    },
    "tags": []
   },
   "outputs": [
    {
     "data": {
      "text/plain": [
       "HasCrCard\n",
       "1    7055\n",
       "0    2945\n",
       "Name: count, dtype: int64"
      ]
     },
     "execution_count": 8,
     "metadata": {},
     "output_type": "execute_result"
    }
   ],
   "source": [
    "df['HasCrCard'].value_counts()"
   ]
  },
  {
   "cell_type": "code",
   "execution_count": 9,
   "id": "f4c45fdb",
   "metadata": {
    "execution": {
     "iopub.execute_input": "2023-11-01T18:37:33.414711Z",
     "iopub.status.busy": "2023-11-01T18:37:33.414316Z",
     "iopub.status.idle": "2023-11-01T18:37:33.422842Z",
     "shell.execute_reply": "2023-11-01T18:37:33.421782Z"
    },
    "papermill": {
     "duration": 0.023072,
     "end_time": "2023-11-01T18:37:33.425308",
     "exception": false,
     "start_time": "2023-11-01T18:37:33.402236",
     "status": "completed"
    },
    "tags": []
   },
   "outputs": [
    {
     "data": {
      "text/plain": [
       "IsActiveMember\n",
       "1    5151\n",
       "0    4849\n",
       "Name: count, dtype: int64"
      ]
     },
     "execution_count": 9,
     "metadata": {},
     "output_type": "execute_result"
    }
   ],
   "source": [
    "df['IsActiveMember'].value_counts()"
   ]
  },
  {
   "cell_type": "code",
   "execution_count": 10,
   "id": "c01fc14f",
   "metadata": {
    "execution": {
     "iopub.execute_input": "2023-11-01T18:37:33.448476Z",
     "iopub.status.busy": "2023-11-01T18:37:33.448081Z",
     "iopub.status.idle": "2023-11-01T18:37:33.456323Z",
     "shell.execute_reply": "2023-11-01T18:37:33.455503Z"
    },
    "papermill": {
     "duration": 0.022476,
     "end_time": "2023-11-01T18:37:33.458476",
     "exception": false,
     "start_time": "2023-11-01T18:37:33.436000",
     "status": "completed"
    },
    "tags": []
   },
   "outputs": [
    {
     "data": {
      "text/plain": [
       "NumOfProducts\n",
       "1    5084\n",
       "2    4590\n",
       "3     266\n",
       "4      60\n",
       "Name: count, dtype: int64"
      ]
     },
     "execution_count": 10,
     "metadata": {},
     "output_type": "execute_result"
    }
   ],
   "source": [
    "df['NumOfProducts'].value_counts()"
   ]
  },
  {
   "cell_type": "code",
   "execution_count": 11,
   "id": "5285535e",
   "metadata": {
    "execution": {
     "iopub.execute_input": "2023-11-01T18:37:33.482924Z",
     "iopub.status.busy": "2023-11-01T18:37:33.482548Z",
     "iopub.status.idle": "2023-11-01T18:37:33.496161Z",
     "shell.execute_reply": "2023-11-01T18:37:33.494881Z"
    },
    "papermill": {
     "duration": 0.029475,
     "end_time": "2023-11-01T18:37:33.498902",
     "exception": false,
     "start_time": "2023-11-01T18:37:33.469427",
     "status": "completed"
    },
    "tags": []
   },
   "outputs": [],
   "source": [
    "df = pd.get_dummies(data=df,columns=['Geography','Gender'],drop_first=True)"
   ]
  },
  {
   "cell_type": "code",
   "execution_count": 12,
   "id": "74ee54d8",
   "metadata": {
    "execution": {
     "iopub.execute_input": "2023-11-01T18:37:33.522954Z",
     "iopub.status.busy": "2023-11-01T18:37:33.522536Z",
     "iopub.status.idle": "2023-11-01T18:37:33.539141Z",
     "shell.execute_reply": "2023-11-01T18:37:33.538154Z"
    },
    "papermill": {
     "duration": 0.031327,
     "end_time": "2023-11-01T18:37:33.541472",
     "exception": false,
     "start_time": "2023-11-01T18:37:33.510145",
     "status": "completed"
    },
    "tags": []
   },
   "outputs": [
    {
     "data": {
      "text/html": [
       "<div>\n",
       "<style scoped>\n",
       "    .dataframe tbody tr th:only-of-type {\n",
       "        vertical-align: middle;\n",
       "    }\n",
       "\n",
       "    .dataframe tbody tr th {\n",
       "        vertical-align: top;\n",
       "    }\n",
       "\n",
       "    .dataframe thead th {\n",
       "        text-align: right;\n",
       "    }\n",
       "</style>\n",
       "<table border=\"1\" class=\"dataframe\">\n",
       "  <thead>\n",
       "    <tr style=\"text-align: right;\">\n",
       "      <th></th>\n",
       "      <th>CreditScore</th>\n",
       "      <th>Age</th>\n",
       "      <th>Tenure</th>\n",
       "      <th>Balance</th>\n",
       "      <th>NumOfProducts</th>\n",
       "      <th>HasCrCard</th>\n",
       "      <th>IsActiveMember</th>\n",
       "      <th>EstimatedSalary</th>\n",
       "      <th>Exited</th>\n",
       "      <th>Geography_Germany</th>\n",
       "      <th>Geography_Spain</th>\n",
       "      <th>Gender_Male</th>\n",
       "    </tr>\n",
       "  </thead>\n",
       "  <tbody>\n",
       "    <tr>\n",
       "      <th>0</th>\n",
       "      <td>619</td>\n",
       "      <td>42</td>\n",
       "      <td>2</td>\n",
       "      <td>0.00</td>\n",
       "      <td>1</td>\n",
       "      <td>1</td>\n",
       "      <td>1</td>\n",
       "      <td>101348.88</td>\n",
       "      <td>1</td>\n",
       "      <td>False</td>\n",
       "      <td>False</td>\n",
       "      <td>False</td>\n",
       "    </tr>\n",
       "    <tr>\n",
       "      <th>1</th>\n",
       "      <td>608</td>\n",
       "      <td>41</td>\n",
       "      <td>1</td>\n",
       "      <td>83807.86</td>\n",
       "      <td>1</td>\n",
       "      <td>0</td>\n",
       "      <td>1</td>\n",
       "      <td>112542.58</td>\n",
       "      <td>0</td>\n",
       "      <td>False</td>\n",
       "      <td>True</td>\n",
       "      <td>False</td>\n",
       "    </tr>\n",
       "    <tr>\n",
       "      <th>2</th>\n",
       "      <td>502</td>\n",
       "      <td>42</td>\n",
       "      <td>8</td>\n",
       "      <td>159660.80</td>\n",
       "      <td>3</td>\n",
       "      <td>1</td>\n",
       "      <td>0</td>\n",
       "      <td>113931.57</td>\n",
       "      <td>1</td>\n",
       "      <td>False</td>\n",
       "      <td>False</td>\n",
       "      <td>False</td>\n",
       "    </tr>\n",
       "    <tr>\n",
       "      <th>3</th>\n",
       "      <td>699</td>\n",
       "      <td>39</td>\n",
       "      <td>1</td>\n",
       "      <td>0.00</td>\n",
       "      <td>2</td>\n",
       "      <td>0</td>\n",
       "      <td>0</td>\n",
       "      <td>93826.63</td>\n",
       "      <td>0</td>\n",
       "      <td>False</td>\n",
       "      <td>False</td>\n",
       "      <td>False</td>\n",
       "    </tr>\n",
       "    <tr>\n",
       "      <th>4</th>\n",
       "      <td>850</td>\n",
       "      <td>43</td>\n",
       "      <td>2</td>\n",
       "      <td>125510.82</td>\n",
       "      <td>1</td>\n",
       "      <td>1</td>\n",
       "      <td>1</td>\n",
       "      <td>79084.10</td>\n",
       "      <td>0</td>\n",
       "      <td>False</td>\n",
       "      <td>True</td>\n",
       "      <td>False</td>\n",
       "    </tr>\n",
       "  </tbody>\n",
       "</table>\n",
       "</div>"
      ],
      "text/plain": [
       "   CreditScore  Age  Tenure    Balance  NumOfProducts  HasCrCard  \\\n",
       "0          619   42       2       0.00              1          1   \n",
       "1          608   41       1   83807.86              1          0   \n",
       "2          502   42       8  159660.80              3          1   \n",
       "3          699   39       1       0.00              2          0   \n",
       "4          850   43       2  125510.82              1          1   \n",
       "\n",
       "   IsActiveMember  EstimatedSalary  Exited  Geography_Germany  \\\n",
       "0               1        101348.88       1              False   \n",
       "1               1        112542.58       0              False   \n",
       "2               0        113931.57       1              False   \n",
       "3               0         93826.63       0              False   \n",
       "4               1         79084.10       0              False   \n",
       "\n",
       "   Geography_Spain  Gender_Male  \n",
       "0            False        False  \n",
       "1             True        False  \n",
       "2            False        False  \n",
       "3            False        False  \n",
       "4             True        False  "
      ]
     },
     "execution_count": 12,
     "metadata": {},
     "output_type": "execute_result"
    }
   ],
   "source": [
    "df.head()"
   ]
  },
  {
   "cell_type": "code",
   "execution_count": 13,
   "id": "ff900886",
   "metadata": {
    "execution": {
     "iopub.execute_input": "2023-11-01T18:37:33.566750Z",
     "iopub.status.busy": "2023-11-01T18:37:33.565490Z",
     "iopub.status.idle": "2023-11-01T18:37:33.578115Z",
     "shell.execute_reply": "2023-11-01T18:37:33.577099Z"
    },
    "papermill": {
     "duration": 0.028071,
     "end_time": "2023-11-01T18:37:33.580788",
     "exception": false,
     "start_time": "2023-11-01T18:37:33.552717",
     "status": "completed"
    },
    "tags": []
   },
   "outputs": [],
   "source": [
    "cols_to_scale = ['CreditScore','Balance','EstimatedSalary']\n",
    "\n",
    "scaler = MinMaxScaler()\n",
    "\n",
    "df[cols_to_scale] = scaler.fit_transform(df[cols_to_scale])"
   ]
  },
  {
   "cell_type": "code",
   "execution_count": 14,
   "id": "e8b8d33e",
   "metadata": {
    "execution": {
     "iopub.execute_input": "2023-11-01T18:37:33.605199Z",
     "iopub.status.busy": "2023-11-01T18:37:33.604789Z",
     "iopub.status.idle": "2023-11-01T18:37:33.612980Z",
     "shell.execute_reply": "2023-11-01T18:37:33.611904Z"
    },
    "papermill": {
     "duration": 0.023165,
     "end_time": "2023-11-01T18:37:33.615432",
     "exception": false,
     "start_time": "2023-11-01T18:37:33.592267",
     "status": "completed"
    },
    "tags": []
   },
   "outputs": [],
   "source": [
    "df[cols_to_scale] = df[cols_to_scale].round(2)"
   ]
  },
  {
   "cell_type": "code",
   "execution_count": 15,
   "id": "d993ecaf",
   "metadata": {
    "execution": {
     "iopub.execute_input": "2023-11-01T18:37:33.640233Z",
     "iopub.status.busy": "2023-11-01T18:37:33.639840Z",
     "iopub.status.idle": "2023-11-01T18:37:33.650931Z",
     "shell.execute_reply": "2023-11-01T18:37:33.649965Z"
    },
    "papermill": {
     "duration": 0.026477,
     "end_time": "2023-11-01T18:37:33.653454",
     "exception": false,
     "start_time": "2023-11-01T18:37:33.626977",
     "status": "completed"
    },
    "tags": []
   },
   "outputs": [],
   "source": [
    "df['Geography_Germany'] = df['Geography_Germany'].map({False:0,True:1})\n",
    "df['Geography_Spain'] = df['Geography_Spain'].map({False:0,True:1})\n",
    "df['Gender_Male'] = df['Gender_Male'].map({False:0,True:1})"
   ]
  },
  {
   "cell_type": "code",
   "execution_count": 16,
   "id": "fecc4ecc",
   "metadata": {
    "execution": {
     "iopub.execute_input": "2023-11-01T18:37:33.678719Z",
     "iopub.status.busy": "2023-11-01T18:37:33.678000Z",
     "iopub.status.idle": "2023-11-01T18:37:33.684445Z",
     "shell.execute_reply": "2023-11-01T18:37:33.683340Z"
    },
    "papermill": {
     "duration": 0.02213,
     "end_time": "2023-11-01T18:37:33.687114",
     "exception": false,
     "start_time": "2023-11-01T18:37:33.664984",
     "status": "completed"
    },
    "tags": []
   },
   "outputs": [],
   "source": [
    "X = df.drop('Exited',axis=1)\n",
    "y = df['Exited']"
   ]
  },
  {
   "cell_type": "code",
   "execution_count": 17,
   "id": "f11c1ea2",
   "metadata": {
    "execution": {
     "iopub.execute_input": "2023-11-01T18:37:33.712281Z",
     "iopub.status.busy": "2023-11-01T18:37:33.711882Z",
     "iopub.status.idle": "2023-11-01T18:37:33.752164Z",
     "shell.execute_reply": "2023-11-01T18:37:33.751090Z"
    },
    "papermill": {
     "duration": 0.055693,
     "end_time": "2023-11-01T18:37:33.754794",
     "exception": false,
     "start_time": "2023-11-01T18:37:33.699101",
     "status": "completed"
    },
    "tags": []
   },
   "outputs": [],
   "source": [
    "smote = SMOTE(sampling_strategy='auto')\n",
    "\n",
    "X_resample,y_resample = smote.fit_resample(X,y)"
   ]
  },
  {
   "cell_type": "code",
   "execution_count": 18,
   "id": "f7f5704b",
   "metadata": {
    "execution": {
     "iopub.execute_input": "2023-11-01T18:37:33.779350Z",
     "iopub.status.busy": "2023-11-01T18:37:33.778934Z",
     "iopub.status.idle": "2023-11-01T18:37:33.787793Z",
     "shell.execute_reply": "2023-11-01T18:37:33.786640Z"
    },
    "papermill": {
     "duration": 0.0238,
     "end_time": "2023-11-01T18:37:33.790125",
     "exception": false,
     "start_time": "2023-11-01T18:37:33.766325",
     "status": "completed"
    },
    "tags": []
   },
   "outputs": [
    {
     "data": {
      "text/plain": [
       "Exited\n",
       "1    7963\n",
       "0    7963\n",
       "Name: count, dtype: int64"
      ]
     },
     "execution_count": 18,
     "metadata": {},
     "output_type": "execute_result"
    }
   ],
   "source": [
    "y_resample.value_counts()"
   ]
  },
  {
   "cell_type": "code",
   "execution_count": 19,
   "id": "68b897d5",
   "metadata": {
    "execution": {
     "iopub.execute_input": "2023-11-01T18:37:33.815372Z",
     "iopub.status.busy": "2023-11-01T18:37:33.814980Z",
     "iopub.status.idle": "2023-11-01T18:37:33.826562Z",
     "shell.execute_reply": "2023-11-01T18:37:33.825644Z"
    },
    "papermill": {
     "duration": 0.027181,
     "end_time": "2023-11-01T18:37:33.828942",
     "exception": false,
     "start_time": "2023-11-01T18:37:33.801761",
     "status": "completed"
    },
    "tags": []
   },
   "outputs": [],
   "source": [
    "X_train,X_test,y_train,y_test = train_test_split(X_resample,y_resample,test_size=0.2,random_state=1)"
   ]
  },
  {
   "cell_type": "code",
   "execution_count": 20,
   "id": "8d2ee35a",
   "metadata": {
    "execution": {
     "iopub.execute_input": "2023-11-01T18:37:33.854179Z",
     "iopub.status.busy": "2023-11-01T18:37:33.853125Z",
     "iopub.status.idle": "2023-11-01T18:37:33.859506Z",
     "shell.execute_reply": "2023-11-01T18:37:33.858336Z"
    },
    "papermill": {
     "duration": 0.021205,
     "end_time": "2023-11-01T18:37:33.861796",
     "exception": false,
     "start_time": "2023-11-01T18:37:33.840591",
     "status": "completed"
    },
    "tags": []
   },
   "outputs": [
    {
     "name": "stdout",
     "output_type": "stream",
     "text": [
      "(12740, 11) (3186,)\n"
     ]
    }
   ],
   "source": [
    "print(X_train.shape, y_test.shape)"
   ]
  },
  {
   "cell_type": "code",
   "execution_count": 21,
   "id": "049491cb",
   "metadata": {
    "execution": {
     "iopub.execute_input": "2023-11-01T18:37:33.887406Z",
     "iopub.status.busy": "2023-11-01T18:37:33.886276Z",
     "iopub.status.idle": "2023-11-01T18:37:34.085762Z",
     "shell.execute_reply": "2023-11-01T18:37:34.084527Z"
    },
    "papermill": {
     "duration": 0.21562,
     "end_time": "2023-11-01T18:37:34.088872",
     "exception": false,
     "start_time": "2023-11-01T18:37:33.873252",
     "status": "completed"
    },
    "tags": []
   },
   "outputs": [],
   "source": [
    "model = Sequential()\n",
    "\n",
    "model.add(Dense(16,activation='relu',input_dim=11))\n",
    "model.add(Dropout(0.1))\n",
    "\n",
    "model.add(Dense(16,activation='relu'))\n",
    "model.add(Dropout(0.1))\n",
    "\n",
    "model.add(Dense(1,activation='sigmoid'))"
   ]
  },
  {
   "cell_type": "code",
   "execution_count": 22,
   "id": "adffc102",
   "metadata": {
    "execution": {
     "iopub.execute_input": "2023-11-01T18:37:34.114449Z",
     "iopub.status.busy": "2023-11-01T18:37:34.113465Z",
     "iopub.status.idle": "2023-11-01T18:37:34.141439Z",
     "shell.execute_reply": "2023-11-01T18:37:34.139992Z"
    },
    "papermill": {
     "duration": 0.048214,
     "end_time": "2023-11-01T18:37:34.148901",
     "exception": false,
     "start_time": "2023-11-01T18:37:34.100687",
     "status": "completed"
    },
    "tags": []
   },
   "outputs": [
    {
     "name": "stdout",
     "output_type": "stream",
     "text": [
      "Model: \"sequential\"\n",
      "_________________________________________________________________\n",
      " Layer (type)                Output Shape              Param #   \n",
      "=================================================================\n",
      " dense (Dense)               (None, 16)                192       \n",
      "                                                                 \n",
      " dropout (Dropout)           (None, 16)                0         \n",
      "                                                                 \n",
      " dense_1 (Dense)             (None, 16)                272       \n",
      "                                                                 \n",
      " dropout_1 (Dropout)         (None, 16)                0         \n",
      "                                                                 \n",
      " dense_2 (Dense)             (None, 1)                 17        \n",
      "                                                                 \n",
      "=================================================================\n",
      "Total params: 481\n",
      "Trainable params: 481\n",
      "Non-trainable params: 0\n",
      "_________________________________________________________________\n"
     ]
    }
   ],
   "source": [
    "model.summary()"
   ]
  },
  {
   "cell_type": "code",
   "execution_count": 23,
   "id": "90903815",
   "metadata": {
    "execution": {
     "iopub.execute_input": "2023-11-01T18:37:34.177324Z",
     "iopub.status.busy": "2023-11-01T18:37:34.176906Z",
     "iopub.status.idle": "2023-11-01T18:37:34.196351Z",
     "shell.execute_reply": "2023-11-01T18:37:34.195145Z"
    },
    "papermill": {
     "duration": 0.036822,
     "end_time": "2023-11-01T18:37:34.199007",
     "exception": false,
     "start_time": "2023-11-01T18:37:34.162185",
     "status": "completed"
    },
    "tags": []
   },
   "outputs": [],
   "source": [
    "model.compile(loss='binary_crossentropy',optimizer='adam',metrics=['accuracy'])"
   ]
  },
  {
   "cell_type": "code",
   "execution_count": 24,
   "id": "8d90afbb",
   "metadata": {
    "execution": {
     "iopub.execute_input": "2023-11-01T18:37:34.227167Z",
     "iopub.status.busy": "2023-11-01T18:37:34.226752Z",
     "iopub.status.idle": "2023-11-01T18:39:57.766260Z",
     "shell.execute_reply": "2023-11-01T18:39:57.765218Z"
    },
    "papermill": {
     "duration": 143.556713,
     "end_time": "2023-11-01T18:39:57.768920",
     "exception": false,
     "start_time": "2023-11-01T18:37:34.212207",
     "status": "completed"
    },
    "tags": []
   },
   "outputs": [
    {
     "name": "stdout",
     "output_type": "stream",
     "text": [
      "Epoch 1/200\n",
      "319/319 [==============================] - 2s 3ms/step - loss: 0.9926 - accuracy: 0.5789 - val_loss: 0.6114 - val_accuracy: 0.6954\n",
      "Epoch 2/200\n",
      "319/319 [==============================] - 1s 2ms/step - loss: 0.6364 - accuracy: 0.6515 - val_loss: 0.5752 - val_accuracy: 0.7053\n",
      "Epoch 3/200\n",
      "319/319 [==============================] - 1s 2ms/step - loss: 0.5908 - accuracy: 0.6886 - val_loss: 0.5661 - val_accuracy: 0.7104\n",
      "Epoch 4/200\n",
      "319/319 [==============================] - 1s 2ms/step - loss: 0.5684 - accuracy: 0.7109 - val_loss: 0.5677 - val_accuracy: 0.7068\n",
      "Epoch 5/200\n",
      "319/319 [==============================] - 1s 2ms/step - loss: 0.5623 - accuracy: 0.7154 - val_loss: 0.5626 - val_accuracy: 0.7108\n",
      "Epoch 6/200\n",
      "319/319 [==============================] - 1s 2ms/step - loss: 0.5574 - accuracy: 0.7178 - val_loss: 0.5604 - val_accuracy: 0.7123\n",
      "Epoch 7/200\n",
      "319/319 [==============================] - 1s 2ms/step - loss: 0.5511 - accuracy: 0.7214 - val_loss: 0.5598 - val_accuracy: 0.7131\n",
      "Epoch 8/200\n",
      "319/319 [==============================] - 1s 2ms/step - loss: 0.5484 - accuracy: 0.7241 - val_loss: 0.5539 - val_accuracy: 0.7198\n",
      "Epoch 9/200\n",
      "319/319 [==============================] - 1s 2ms/step - loss: 0.5477 - accuracy: 0.7304 - val_loss: 0.5549 - val_accuracy: 0.7092\n",
      "Epoch 10/200\n",
      "319/319 [==============================] - 1s 2ms/step - loss: 0.5464 - accuracy: 0.7244 - val_loss: 0.5792 - val_accuracy: 0.6884\n",
      "Epoch 11/200\n",
      "319/319 [==============================] - 1s 2ms/step - loss: 0.5418 - accuracy: 0.7307 - val_loss: 0.5475 - val_accuracy: 0.7221\n",
      "Epoch 12/200\n",
      "319/319 [==============================] - 1s 2ms/step - loss: 0.5396 - accuracy: 0.7301 - val_loss: 0.5475 - val_accuracy: 0.7214\n",
      "Epoch 13/200\n",
      "319/319 [==============================] - 1s 2ms/step - loss: 0.5370 - accuracy: 0.7315 - val_loss: 0.5470 - val_accuracy: 0.7265\n",
      "Epoch 14/200\n",
      "319/319 [==============================] - 1s 2ms/step - loss: 0.5347 - accuracy: 0.7334 - val_loss: 0.5452 - val_accuracy: 0.7221\n",
      "Epoch 15/200\n",
      "319/319 [==============================] - 1s 2ms/step - loss: 0.5339 - accuracy: 0.7343 - val_loss: 0.5449 - val_accuracy: 0.7249\n",
      "Epoch 16/200\n",
      "319/319 [==============================] - 1s 2ms/step - loss: 0.5353 - accuracy: 0.7334 - val_loss: 0.5507 - val_accuracy: 0.7088\n",
      "Epoch 17/200\n",
      "319/319 [==============================] - 1s 2ms/step - loss: 0.5305 - accuracy: 0.7372 - val_loss: 0.5559 - val_accuracy: 0.6986\n",
      "Epoch 18/200\n",
      "319/319 [==============================] - 1s 2ms/step - loss: 0.5282 - accuracy: 0.7302 - val_loss: 0.5400 - val_accuracy: 0.7268\n",
      "Epoch 19/200\n",
      "319/319 [==============================] - 1s 2ms/step - loss: 0.5247 - accuracy: 0.7404 - val_loss: 0.5381 - val_accuracy: 0.7178\n",
      "Epoch 20/200\n",
      "319/319 [==============================] - 1s 2ms/step - loss: 0.5218 - accuracy: 0.7361 - val_loss: 0.5388 - val_accuracy: 0.7233\n",
      "Epoch 21/200\n",
      "319/319 [==============================] - 1s 3ms/step - loss: 0.5209 - accuracy: 0.7371 - val_loss: 0.5362 - val_accuracy: 0.7214\n",
      "Epoch 22/200\n",
      "319/319 [==============================] - 1s 2ms/step - loss: 0.5151 - accuracy: 0.7402 - val_loss: 0.5305 - val_accuracy: 0.7225\n",
      "Epoch 23/200\n",
      "319/319 [==============================] - 1s 2ms/step - loss: 0.5137 - accuracy: 0.7404 - val_loss: 0.5295 - val_accuracy: 0.7233\n",
      "Epoch 24/200\n",
      "319/319 [==============================] - 1s 2ms/step - loss: 0.5107 - accuracy: 0.7427 - val_loss: 0.5262 - val_accuracy: 0.7202\n",
      "Epoch 25/200\n",
      "319/319 [==============================] - 1s 2ms/step - loss: 0.5107 - accuracy: 0.7447 - val_loss: 0.5270 - val_accuracy: 0.7308\n",
      "Epoch 26/200\n",
      "319/319 [==============================] - 1s 2ms/step - loss: 0.5053 - accuracy: 0.7433 - val_loss: 0.5209 - val_accuracy: 0.7394\n",
      "Epoch 27/200\n",
      "319/319 [==============================] - 1s 2ms/step - loss: 0.5052 - accuracy: 0.7504 - val_loss: 0.5172 - val_accuracy: 0.7327\n",
      "Epoch 28/200\n",
      "319/319 [==============================] - 1s 2ms/step - loss: 0.5000 - accuracy: 0.7461 - val_loss: 0.5161 - val_accuracy: 0.7327\n",
      "Epoch 29/200\n",
      "319/319 [==============================] - 1s 2ms/step - loss: 0.4973 - accuracy: 0.7526 - val_loss: 0.5123 - val_accuracy: 0.7355\n",
      "Epoch 30/200\n",
      "319/319 [==============================] - 1s 2ms/step - loss: 0.4938 - accuracy: 0.7585 - val_loss: 0.5078 - val_accuracy: 0.7390\n",
      "Epoch 31/200\n",
      "319/319 [==============================] - 1s 2ms/step - loss: 0.4928 - accuracy: 0.7584 - val_loss: 0.5092 - val_accuracy: 0.7449\n",
      "Epoch 32/200\n",
      "319/319 [==============================] - 1s 2ms/step - loss: 0.4890 - accuracy: 0.7586 - val_loss: 0.4960 - val_accuracy: 0.7555\n",
      "Epoch 33/200\n",
      "319/319 [==============================] - 1s 2ms/step - loss: 0.4856 - accuracy: 0.7576 - val_loss: 0.4917 - val_accuracy: 0.7524\n",
      "Epoch 34/200\n",
      "319/319 [==============================] - 1s 2ms/step - loss: 0.4834 - accuracy: 0.7634 - val_loss: 0.4887 - val_accuracy: 0.7633\n",
      "Epoch 35/200\n",
      "319/319 [==============================] - 1s 2ms/step - loss: 0.4795 - accuracy: 0.7616 - val_loss: 0.4988 - val_accuracy: 0.7500\n",
      "Epoch 36/200\n",
      "319/319 [==============================] - 1s 2ms/step - loss: 0.4824 - accuracy: 0.7615 - val_loss: 0.5010 - val_accuracy: 0.7488\n",
      "Epoch 37/200\n",
      "319/319 [==============================] - 1s 2ms/step - loss: 0.4811 - accuracy: 0.7638 - val_loss: 0.4796 - val_accuracy: 0.7618\n",
      "Epoch 38/200\n",
      "319/319 [==============================] - 1s 2ms/step - loss: 0.4760 - accuracy: 0.7641 - val_loss: 0.4777 - val_accuracy: 0.7582\n",
      "Epoch 39/200\n",
      "319/319 [==============================] - 1s 2ms/step - loss: 0.4714 - accuracy: 0.7674 - val_loss: 0.4812 - val_accuracy: 0.7630\n",
      "Epoch 40/200\n",
      "319/319 [==============================] - 1s 2ms/step - loss: 0.4723 - accuracy: 0.7684 - val_loss: 0.4803 - val_accuracy: 0.7696\n",
      "Epoch 41/200\n",
      "319/319 [==============================] - 1s 2ms/step - loss: 0.4706 - accuracy: 0.7683 - val_loss: 0.4801 - val_accuracy: 0.7567\n",
      "Epoch 42/200\n",
      "319/319 [==============================] - 1s 2ms/step - loss: 0.4684 - accuracy: 0.7709 - val_loss: 0.4732 - val_accuracy: 0.7720\n",
      "Epoch 43/200\n",
      "319/319 [==============================] - 1s 2ms/step - loss: 0.4716 - accuracy: 0.7678 - val_loss: 0.4761 - val_accuracy: 0.7732\n",
      "Epoch 44/200\n",
      "319/319 [==============================] - 1s 2ms/step - loss: 0.4693 - accuracy: 0.7718 - val_loss: 0.4721 - val_accuracy: 0.7677\n",
      "Epoch 45/200\n",
      "319/319 [==============================] - 1s 2ms/step - loss: 0.4705 - accuracy: 0.7703 - val_loss: 0.4739 - val_accuracy: 0.7669\n",
      "Epoch 46/200\n",
      "319/319 [==============================] - 1s 2ms/step - loss: 0.4683 - accuracy: 0.7699 - val_loss: 0.4735 - val_accuracy: 0.7681\n",
      "Epoch 47/200\n",
      "319/319 [==============================] - 1s 2ms/step - loss: 0.4699 - accuracy: 0.7700 - val_loss: 0.4720 - val_accuracy: 0.7688\n",
      "Epoch 48/200\n",
      "319/319 [==============================] - 1s 2ms/step - loss: 0.4644 - accuracy: 0.7757 - val_loss: 0.4715 - val_accuracy: 0.7724\n",
      "Epoch 49/200\n",
      "319/319 [==============================] - 1s 2ms/step - loss: 0.4691 - accuracy: 0.7688 - val_loss: 0.4694 - val_accuracy: 0.7798\n",
      "Epoch 50/200\n",
      "319/319 [==============================] - 1s 2ms/step - loss: 0.4617 - accuracy: 0.7736 - val_loss: 0.4724 - val_accuracy: 0.7779\n",
      "Epoch 51/200\n",
      "319/319 [==============================] - 1s 2ms/step - loss: 0.4640 - accuracy: 0.7732 - val_loss: 0.4719 - val_accuracy: 0.7732\n",
      "Epoch 52/200\n",
      "319/319 [==============================] - 1s 2ms/step - loss: 0.4638 - accuracy: 0.7728 - val_loss: 0.4635 - val_accuracy: 0.7794\n",
      "Epoch 53/200\n",
      "319/319 [==============================] - 1s 2ms/step - loss: 0.4608 - accuracy: 0.7751 - val_loss: 0.4643 - val_accuracy: 0.7747\n",
      "Epoch 54/200\n",
      "319/319 [==============================] - 1s 2ms/step - loss: 0.4614 - accuracy: 0.7756 - val_loss: 0.4685 - val_accuracy: 0.7747\n",
      "Epoch 55/200\n",
      "319/319 [==============================] - 1s 2ms/step - loss: 0.4625 - accuracy: 0.7760 - val_loss: 0.4655 - val_accuracy: 0.7810\n",
      "Epoch 56/200\n",
      "319/319 [==============================] - 1s 2ms/step - loss: 0.4621 - accuracy: 0.7745 - val_loss: 0.4605 - val_accuracy: 0.7877\n",
      "Epoch 57/200\n",
      "319/319 [==============================] - 1s 2ms/step - loss: 0.4609 - accuracy: 0.7777 - val_loss: 0.4664 - val_accuracy: 0.7790\n",
      "Epoch 58/200\n",
      "319/319 [==============================] - 1s 2ms/step - loss: 0.4625 - accuracy: 0.7761 - val_loss: 0.4614 - val_accuracy: 0.7845\n",
      "Epoch 59/200\n",
      "319/319 [==============================] - 1s 2ms/step - loss: 0.4597 - accuracy: 0.7774 - val_loss: 0.4581 - val_accuracy: 0.7845\n",
      "Epoch 60/200\n",
      "319/319 [==============================] - 1s 2ms/step - loss: 0.4596 - accuracy: 0.7801 - val_loss: 0.4635 - val_accuracy: 0.7751\n",
      "Epoch 61/200\n",
      "319/319 [==============================] - 1s 2ms/step - loss: 0.4601 - accuracy: 0.7758 - val_loss: 0.4668 - val_accuracy: 0.7790\n",
      "Epoch 62/200\n",
      "319/319 [==============================] - 1s 2ms/step - loss: 0.4624 - accuracy: 0.7766 - val_loss: 0.4677 - val_accuracy: 0.7759\n",
      "Epoch 63/200\n",
      "319/319 [==============================] - 1s 2ms/step - loss: 0.4587 - accuracy: 0.7757 - val_loss: 0.4662 - val_accuracy: 0.7853\n",
      "Epoch 64/200\n",
      "319/319 [==============================] - 1s 2ms/step - loss: 0.4579 - accuracy: 0.7782 - val_loss: 0.4685 - val_accuracy: 0.7771\n",
      "Epoch 65/200\n",
      "319/319 [==============================] - 1s 3ms/step - loss: 0.4551 - accuracy: 0.7797 - val_loss: 0.4604 - val_accuracy: 0.7755\n",
      "Epoch 66/200\n",
      "319/319 [==============================] - 1s 2ms/step - loss: 0.4566 - accuracy: 0.7786 - val_loss: 0.4589 - val_accuracy: 0.7861\n",
      "Epoch 67/200\n",
      "319/319 [==============================] - 1s 2ms/step - loss: 0.4615 - accuracy: 0.7786 - val_loss: 0.4630 - val_accuracy: 0.7822\n",
      "Epoch 68/200\n",
      "319/319 [==============================] - 1s 2ms/step - loss: 0.4603 - accuracy: 0.7807 - val_loss: 0.4557 - val_accuracy: 0.7892\n",
      "Epoch 69/200\n",
      "319/319 [==============================] - 1s 2ms/step - loss: 0.4615 - accuracy: 0.7742 - val_loss: 0.4576 - val_accuracy: 0.7943\n",
      "Epoch 70/200\n",
      "319/319 [==============================] - 1s 2ms/step - loss: 0.4587 - accuracy: 0.7805 - val_loss: 0.4608 - val_accuracy: 0.7751\n",
      "Epoch 71/200\n",
      "319/319 [==============================] - 1s 2ms/step - loss: 0.4579 - accuracy: 0.7774 - val_loss: 0.4692 - val_accuracy: 0.7814\n",
      "Epoch 72/200\n",
      "319/319 [==============================] - 1s 2ms/step - loss: 0.4579 - accuracy: 0.7799 - val_loss: 0.4589 - val_accuracy: 0.7896\n",
      "Epoch 73/200\n",
      "319/319 [==============================] - 1s 2ms/step - loss: 0.4535 - accuracy: 0.7835 - val_loss: 0.4712 - val_accuracy: 0.7759\n",
      "Epoch 74/200\n",
      "319/319 [==============================] - 1s 2ms/step - loss: 0.4588 - accuracy: 0.7798 - val_loss: 0.4581 - val_accuracy: 0.7857\n",
      "Epoch 75/200\n",
      "319/319 [==============================] - 1s 2ms/step - loss: 0.4551 - accuracy: 0.7817 - val_loss: 0.4599 - val_accuracy: 0.7830\n",
      "Epoch 76/200\n",
      "319/319 [==============================] - 1s 2ms/step - loss: 0.4567 - accuracy: 0.7840 - val_loss: 0.4549 - val_accuracy: 0.7881\n",
      "Epoch 77/200\n",
      "319/319 [==============================] - 1s 2ms/step - loss: 0.4536 - accuracy: 0.7806 - val_loss: 0.4533 - val_accuracy: 0.7892\n",
      "Epoch 78/200\n",
      "319/319 [==============================] - 1s 2ms/step - loss: 0.4537 - accuracy: 0.7825 - val_loss: 0.4569 - val_accuracy: 0.7873\n",
      "Epoch 79/200\n",
      "319/319 [==============================] - 1s 2ms/step - loss: 0.4574 - accuracy: 0.7800 - val_loss: 0.4605 - val_accuracy: 0.7845\n",
      "Epoch 80/200\n",
      "319/319 [==============================] - 1s 2ms/step - loss: 0.4534 - accuracy: 0.7810 - val_loss: 0.4547 - val_accuracy: 0.7892\n",
      "Epoch 81/200\n",
      "319/319 [==============================] - 1s 2ms/step - loss: 0.4560 - accuracy: 0.7781 - val_loss: 0.4519 - val_accuracy: 0.7920\n",
      "Epoch 82/200\n",
      "319/319 [==============================] - 1s 2ms/step - loss: 0.4569 - accuracy: 0.7813 - val_loss: 0.4531 - val_accuracy: 0.7889\n",
      "Epoch 83/200\n",
      "319/319 [==============================] - 1s 2ms/step - loss: 0.4535 - accuracy: 0.7802 - val_loss: 0.4568 - val_accuracy: 0.7841\n",
      "Epoch 84/200\n",
      "319/319 [==============================] - 1s 2ms/step - loss: 0.4575 - accuracy: 0.7767 - val_loss: 0.4626 - val_accuracy: 0.7892\n",
      "Epoch 85/200\n",
      "319/319 [==============================] - 1s 2ms/step - loss: 0.4504 - accuracy: 0.7785 - val_loss: 0.4582 - val_accuracy: 0.7838\n",
      "Epoch 86/200\n",
      "319/319 [==============================] - 1s 2ms/step - loss: 0.4550 - accuracy: 0.7826 - val_loss: 0.4595 - val_accuracy: 0.7877\n",
      "Epoch 87/200\n",
      "319/319 [==============================] - 1s 2ms/step - loss: 0.4542 - accuracy: 0.7854 - val_loss: 0.4554 - val_accuracy: 0.7908\n",
      "Epoch 88/200\n",
      "319/319 [==============================] - 1s 2ms/step - loss: 0.4568 - accuracy: 0.7793 - val_loss: 0.4573 - val_accuracy: 0.7896\n",
      "Epoch 89/200\n",
      "319/319 [==============================] - 1s 2ms/step - loss: 0.4539 - accuracy: 0.7800 - val_loss: 0.4547 - val_accuracy: 0.7873\n",
      "Epoch 90/200\n",
      "319/319 [==============================] - 1s 2ms/step - loss: 0.4554 - accuracy: 0.7795 - val_loss: 0.4580 - val_accuracy: 0.7822\n",
      "Epoch 91/200\n",
      "319/319 [==============================] - 1s 2ms/step - loss: 0.4565 - accuracy: 0.7854 - val_loss: 0.4535 - val_accuracy: 0.7892\n",
      "Epoch 92/200\n",
      "319/319 [==============================] - 1s 2ms/step - loss: 0.4564 - accuracy: 0.7809 - val_loss: 0.4632 - val_accuracy: 0.7869\n",
      "Epoch 93/200\n",
      "319/319 [==============================] - 1s 2ms/step - loss: 0.4518 - accuracy: 0.7839 - val_loss: 0.4585 - val_accuracy: 0.7834\n",
      "Epoch 94/200\n",
      "319/319 [==============================] - 1s 2ms/step - loss: 0.4503 - accuracy: 0.7817 - val_loss: 0.4580 - val_accuracy: 0.7924\n",
      "Epoch 95/200\n",
      "319/319 [==============================] - 1s 2ms/step - loss: 0.4524 - accuracy: 0.7833 - val_loss: 0.4616 - val_accuracy: 0.7845\n",
      "Epoch 96/200\n",
      "319/319 [==============================] - 1s 2ms/step - loss: 0.4504 - accuracy: 0.7839 - val_loss: 0.4485 - val_accuracy: 0.7951\n",
      "Epoch 97/200\n",
      "319/319 [==============================] - 1s 2ms/step - loss: 0.4510 - accuracy: 0.7848 - val_loss: 0.4553 - val_accuracy: 0.7881\n",
      "Epoch 98/200\n",
      "319/319 [==============================] - 1s 2ms/step - loss: 0.4498 - accuracy: 0.7853 - val_loss: 0.4564 - val_accuracy: 0.7908\n",
      "Epoch 99/200\n",
      "319/319 [==============================] - 1s 2ms/step - loss: 0.4554 - accuracy: 0.7826 - val_loss: 0.4486 - val_accuracy: 0.7912\n",
      "Epoch 100/200\n",
      "319/319 [==============================] - 1s 2ms/step - loss: 0.4516 - accuracy: 0.7872 - val_loss: 0.4532 - val_accuracy: 0.7865\n",
      "Epoch 101/200\n",
      "319/319 [==============================] - 1s 2ms/step - loss: 0.4519 - accuracy: 0.7851 - val_loss: 0.4590 - val_accuracy: 0.7916\n",
      "Epoch 102/200\n",
      "319/319 [==============================] - 1s 2ms/step - loss: 0.4493 - accuracy: 0.7861 - val_loss: 0.4539 - val_accuracy: 0.7861\n",
      "Epoch 103/200\n",
      "319/319 [==============================] - 1s 2ms/step - loss: 0.4475 - accuracy: 0.7880 - val_loss: 0.4519 - val_accuracy: 0.7908\n",
      "Epoch 104/200\n",
      "319/319 [==============================] - 1s 2ms/step - loss: 0.4514 - accuracy: 0.7865 - val_loss: 0.4578 - val_accuracy: 0.7818\n",
      "Epoch 105/200\n",
      "319/319 [==============================] - 1s 2ms/step - loss: 0.4471 - accuracy: 0.7829 - val_loss: 0.4486 - val_accuracy: 0.7936\n",
      "Epoch 106/200\n",
      "319/319 [==============================] - 1s 2ms/step - loss: 0.4527 - accuracy: 0.7834 - val_loss: 0.4519 - val_accuracy: 0.7841\n",
      "Epoch 107/200\n",
      "319/319 [==============================] - 1s 2ms/step - loss: 0.4497 - accuracy: 0.7817 - val_loss: 0.4497 - val_accuracy: 0.7924\n",
      "Epoch 108/200\n",
      "319/319 [==============================] - 1s 2ms/step - loss: 0.4483 - accuracy: 0.7884 - val_loss: 0.4500 - val_accuracy: 0.7947\n",
      "Epoch 109/200\n",
      "319/319 [==============================] - 1s 2ms/step - loss: 0.4507 - accuracy: 0.7839 - val_loss: 0.4590 - val_accuracy: 0.7826\n",
      "Epoch 110/200\n",
      "319/319 [==============================] - 1s 2ms/step - loss: 0.4525 - accuracy: 0.7841 - val_loss: 0.4453 - val_accuracy: 0.7959\n",
      "Epoch 111/200\n",
      "319/319 [==============================] - 1s 2ms/step - loss: 0.4519 - accuracy: 0.7816 - val_loss: 0.4478 - val_accuracy: 0.7951\n",
      "Epoch 112/200\n",
      "319/319 [==============================] - 1s 2ms/step - loss: 0.4479 - accuracy: 0.7855 - val_loss: 0.4504 - val_accuracy: 0.7892\n",
      "Epoch 113/200\n",
      "319/319 [==============================] - 1s 2ms/step - loss: 0.4472 - accuracy: 0.7847 - val_loss: 0.4477 - val_accuracy: 0.7900\n",
      "Epoch 114/200\n",
      "319/319 [==============================] - 1s 2ms/step - loss: 0.4506 - accuracy: 0.7856 - val_loss: 0.4508 - val_accuracy: 0.7920\n",
      "Epoch 115/200\n",
      "319/319 [==============================] - 1s 2ms/step - loss: 0.4485 - accuracy: 0.7853 - val_loss: 0.4440 - val_accuracy: 0.7920\n",
      "Epoch 116/200\n",
      "319/319 [==============================] - 1s 2ms/step - loss: 0.4525 - accuracy: 0.7814 - val_loss: 0.4547 - val_accuracy: 0.7928\n",
      "Epoch 117/200\n",
      "319/319 [==============================] - 1s 2ms/step - loss: 0.4520 - accuracy: 0.7839 - val_loss: 0.4547 - val_accuracy: 0.7971\n",
      "Epoch 118/200\n",
      "319/319 [==============================] - 1s 2ms/step - loss: 0.4475 - accuracy: 0.7853 - val_loss: 0.4431 - val_accuracy: 0.7975\n",
      "Epoch 119/200\n",
      "319/319 [==============================] - 1s 2ms/step - loss: 0.4493 - accuracy: 0.7856 - val_loss: 0.4540 - val_accuracy: 0.7900\n",
      "Epoch 120/200\n",
      "319/319 [==============================] - 1s 2ms/step - loss: 0.4502 - accuracy: 0.7841 - val_loss: 0.4417 - val_accuracy: 0.7943\n",
      "Epoch 121/200\n",
      "319/319 [==============================] - 1s 2ms/step - loss: 0.4472 - accuracy: 0.7840 - val_loss: 0.4561 - val_accuracy: 0.7904\n",
      "Epoch 122/200\n",
      "319/319 [==============================] - 1s 2ms/step - loss: 0.4496 - accuracy: 0.7864 - val_loss: 0.4459 - val_accuracy: 0.7940\n",
      "Epoch 123/200\n",
      "319/319 [==============================] - 1s 2ms/step - loss: 0.4528 - accuracy: 0.7855 - val_loss: 0.4430 - val_accuracy: 0.7955\n",
      "Epoch 124/200\n",
      "319/319 [==============================] - 1s 2ms/step - loss: 0.4483 - accuracy: 0.7876 - val_loss: 0.4423 - val_accuracy: 0.7940\n",
      "Epoch 125/200\n",
      "319/319 [==============================] - 1s 2ms/step - loss: 0.4496 - accuracy: 0.7853 - val_loss: 0.4472 - val_accuracy: 0.7955\n",
      "Epoch 126/200\n",
      "319/319 [==============================] - 1s 2ms/step - loss: 0.4488 - accuracy: 0.7888 - val_loss: 0.4441 - val_accuracy: 0.7983\n",
      "Epoch 127/200\n",
      "319/319 [==============================] - 1s 2ms/step - loss: 0.4506 - accuracy: 0.7830 - val_loss: 0.4419 - val_accuracy: 0.8002\n",
      "Epoch 128/200\n",
      "319/319 [==============================] - 1s 2ms/step - loss: 0.4468 - accuracy: 0.7884 - val_loss: 0.4547 - val_accuracy: 0.7947\n",
      "Epoch 129/200\n",
      "319/319 [==============================] - 1s 2ms/step - loss: 0.4488 - accuracy: 0.7857 - val_loss: 0.4442 - val_accuracy: 0.7943\n",
      "Epoch 130/200\n",
      "319/319 [==============================] - 1s 2ms/step - loss: 0.4456 - accuracy: 0.7861 - val_loss: 0.4454 - val_accuracy: 0.7947\n",
      "Epoch 131/200\n",
      "319/319 [==============================] - 1s 2ms/step - loss: 0.4493 - accuracy: 0.7846 - val_loss: 0.4486 - val_accuracy: 0.8014\n",
      "Epoch 132/200\n",
      "319/319 [==============================] - 1s 2ms/step - loss: 0.4456 - accuracy: 0.7846 - val_loss: 0.4433 - val_accuracy: 0.7943\n",
      "Epoch 133/200\n",
      "319/319 [==============================] - 1s 2ms/step - loss: 0.4498 - accuracy: 0.7843 - val_loss: 0.4476 - val_accuracy: 0.7963\n",
      "Epoch 134/200\n",
      "319/319 [==============================] - 1s 2ms/step - loss: 0.4469 - accuracy: 0.7881 - val_loss: 0.4459 - val_accuracy: 0.7983\n",
      "Epoch 135/200\n",
      "319/319 [==============================] - 1s 2ms/step - loss: 0.4461 - accuracy: 0.7864 - val_loss: 0.4447 - val_accuracy: 0.7955\n",
      "Epoch 136/200\n",
      "319/319 [==============================] - 1s 2ms/step - loss: 0.4454 - accuracy: 0.7909 - val_loss: 0.4453 - val_accuracy: 0.7920\n",
      "Epoch 137/200\n",
      "319/319 [==============================] - 1s 2ms/step - loss: 0.4497 - accuracy: 0.7886 - val_loss: 0.4423 - val_accuracy: 0.7979\n",
      "Epoch 138/200\n",
      "319/319 [==============================] - 1s 2ms/step - loss: 0.4464 - accuracy: 0.7892 - val_loss: 0.4473 - val_accuracy: 0.7896\n",
      "Epoch 139/200\n",
      "319/319 [==============================] - 1s 2ms/step - loss: 0.4477 - accuracy: 0.7836 - val_loss: 0.4410 - val_accuracy: 0.7857\n",
      "Epoch 140/200\n",
      "319/319 [==============================] - 1s 2ms/step - loss: 0.4411 - accuracy: 0.7912 - val_loss: 0.4482 - val_accuracy: 0.7845\n",
      "Epoch 141/200\n",
      "319/319 [==============================] - 1s 2ms/step - loss: 0.4472 - accuracy: 0.7874 - val_loss: 0.4528 - val_accuracy: 0.7857\n",
      "Epoch 142/200\n",
      "319/319 [==============================] - 1s 2ms/step - loss: 0.4466 - accuracy: 0.7852 - val_loss: 0.4423 - val_accuracy: 0.7967\n",
      "Epoch 143/200\n",
      "319/319 [==============================] - 1s 2ms/step - loss: 0.4469 - accuracy: 0.7875 - val_loss: 0.4443 - val_accuracy: 0.7971\n",
      "Epoch 144/200\n",
      "319/319 [==============================] - 1s 2ms/step - loss: 0.4475 - accuracy: 0.7856 - val_loss: 0.4461 - val_accuracy: 0.7967\n",
      "Epoch 145/200\n",
      "319/319 [==============================] - 1s 2ms/step - loss: 0.4491 - accuracy: 0.7844 - val_loss: 0.4413 - val_accuracy: 0.7924\n",
      "Epoch 146/200\n",
      "319/319 [==============================] - 1s 2ms/step - loss: 0.4454 - accuracy: 0.7858 - val_loss: 0.4495 - val_accuracy: 0.7975\n",
      "Epoch 147/200\n",
      "319/319 [==============================] - 1s 2ms/step - loss: 0.4455 - accuracy: 0.7853 - val_loss: 0.4464 - val_accuracy: 0.7955\n",
      "Epoch 148/200\n",
      "319/319 [==============================] - 1s 2ms/step - loss: 0.4481 - accuracy: 0.7845 - val_loss: 0.4467 - val_accuracy: 0.7959\n",
      "Epoch 149/200\n",
      "319/319 [==============================] - 1s 2ms/step - loss: 0.4487 - accuracy: 0.7825 - val_loss: 0.4548 - val_accuracy: 0.7943\n",
      "Epoch 150/200\n",
      "319/319 [==============================] - 1s 2ms/step - loss: 0.4477 - accuracy: 0.7835 - val_loss: 0.4545 - val_accuracy: 0.7987\n",
      "Epoch 151/200\n",
      "319/319 [==============================] - 1s 2ms/step - loss: 0.4459 - accuracy: 0.7839 - val_loss: 0.4469 - val_accuracy: 0.7908\n",
      "Epoch 152/200\n",
      "319/319 [==============================] - 1s 2ms/step - loss: 0.4496 - accuracy: 0.7857 - val_loss: 0.4479 - val_accuracy: 0.7920\n",
      "Epoch 153/200\n",
      "319/319 [==============================] - 1s 2ms/step - loss: 0.4462 - accuracy: 0.7903 - val_loss: 0.4445 - val_accuracy: 0.7920\n",
      "Epoch 154/200\n",
      "319/319 [==============================] - 1s 2ms/step - loss: 0.4486 - accuracy: 0.7845 - val_loss: 0.4414 - val_accuracy: 0.7998\n",
      "Epoch 155/200\n",
      "319/319 [==============================] - 1s 2ms/step - loss: 0.4442 - accuracy: 0.7876 - val_loss: 0.4481 - val_accuracy: 0.7951\n",
      "Epoch 156/200\n",
      "319/319 [==============================] - 1s 2ms/step - loss: 0.4468 - accuracy: 0.7873 - val_loss: 0.4437 - val_accuracy: 0.8002\n",
      "Epoch 157/200\n",
      "319/319 [==============================] - 1s 2ms/step - loss: 0.4439 - accuracy: 0.7908 - val_loss: 0.4504 - val_accuracy: 0.7947\n",
      "Epoch 158/200\n",
      "319/319 [==============================] - 1s 2ms/step - loss: 0.4441 - accuracy: 0.7839 - val_loss: 0.4365 - val_accuracy: 0.7995\n",
      "Epoch 159/200\n",
      "319/319 [==============================] - 1s 2ms/step - loss: 0.4452 - accuracy: 0.7896 - val_loss: 0.4477 - val_accuracy: 0.7940\n",
      "Epoch 160/200\n",
      "319/319 [==============================] - 1s 2ms/step - loss: 0.4463 - accuracy: 0.7867 - val_loss: 0.4431 - val_accuracy: 0.8026\n",
      "Epoch 161/200\n",
      "319/319 [==============================] - 1s 2ms/step - loss: 0.4429 - accuracy: 0.7917 - val_loss: 0.4395 - val_accuracy: 0.7983\n",
      "Epoch 162/200\n",
      "319/319 [==============================] - 1s 2ms/step - loss: 0.4448 - accuracy: 0.7884 - val_loss: 0.4413 - val_accuracy: 0.7995\n",
      "Epoch 163/200\n",
      "319/319 [==============================] - 1s 2ms/step - loss: 0.4432 - accuracy: 0.7886 - val_loss: 0.4430 - val_accuracy: 0.7885\n",
      "Epoch 164/200\n",
      "319/319 [==============================] - 1s 2ms/step - loss: 0.4473 - accuracy: 0.7848 - val_loss: 0.4428 - val_accuracy: 0.8034\n",
      "Epoch 165/200\n",
      "319/319 [==============================] - 1s 2ms/step - loss: 0.4439 - accuracy: 0.7879 - val_loss: 0.4360 - val_accuracy: 0.7995\n",
      "Epoch 166/200\n",
      "319/319 [==============================] - 1s 2ms/step - loss: 0.4441 - accuracy: 0.7852 - val_loss: 0.4435 - val_accuracy: 0.7920\n",
      "Epoch 167/200\n",
      "319/319 [==============================] - 1s 2ms/step - loss: 0.4401 - accuracy: 0.7876 - val_loss: 0.4453 - val_accuracy: 0.8014\n",
      "Epoch 168/200\n",
      "319/319 [==============================] - 1s 2ms/step - loss: 0.4450 - accuracy: 0.7870 - val_loss: 0.4433 - val_accuracy: 0.7979\n",
      "Epoch 169/200\n",
      "319/319 [==============================] - 1s 2ms/step - loss: 0.4466 - accuracy: 0.7868 - val_loss: 0.4389 - val_accuracy: 0.7963\n",
      "Epoch 170/200\n",
      "319/319 [==============================] - 1s 2ms/step - loss: 0.4419 - accuracy: 0.7886 - val_loss: 0.4373 - val_accuracy: 0.8006\n",
      "Epoch 171/200\n",
      "319/319 [==============================] - 1s 2ms/step - loss: 0.4454 - accuracy: 0.7824 - val_loss: 0.4357 - val_accuracy: 0.7983\n",
      "Epoch 172/200\n",
      "319/319 [==============================] - 1s 2ms/step - loss: 0.4419 - accuracy: 0.7901 - val_loss: 0.4374 - val_accuracy: 0.7979\n",
      "Epoch 173/200\n",
      "319/319 [==============================] - 1s 2ms/step - loss: 0.4428 - accuracy: 0.7812 - val_loss: 0.4403 - val_accuracy: 0.7983\n",
      "Epoch 174/200\n",
      "319/319 [==============================] - 1s 2ms/step - loss: 0.4427 - accuracy: 0.7891 - val_loss: 0.4434 - val_accuracy: 0.7983\n",
      "Epoch 175/200\n",
      "319/319 [==============================] - 1s 2ms/step - loss: 0.4418 - accuracy: 0.7895 - val_loss: 0.4614 - val_accuracy: 0.7924\n",
      "Epoch 176/200\n",
      "319/319 [==============================] - 1s 2ms/step - loss: 0.4437 - accuracy: 0.7854 - val_loss: 0.4400 - val_accuracy: 0.7943\n",
      "Epoch 177/200\n",
      "319/319 [==============================] - 1s 2ms/step - loss: 0.4419 - accuracy: 0.7904 - val_loss: 0.4384 - val_accuracy: 0.7975\n",
      "Epoch 178/200\n",
      "319/319 [==============================] - 1s 2ms/step - loss: 0.4462 - accuracy: 0.7841 - val_loss: 0.4499 - val_accuracy: 0.7932\n",
      "Epoch 179/200\n",
      "319/319 [==============================] - 1s 2ms/step - loss: 0.4431 - accuracy: 0.7888 - val_loss: 0.4480 - val_accuracy: 0.7971\n",
      "Epoch 180/200\n",
      "319/319 [==============================] - 1s 2ms/step - loss: 0.4447 - accuracy: 0.7862 - val_loss: 0.4437 - val_accuracy: 0.7991\n",
      "Epoch 181/200\n",
      "319/319 [==============================] - 1s 2ms/step - loss: 0.4426 - accuracy: 0.7886 - val_loss: 0.4437 - val_accuracy: 0.8002\n",
      "Epoch 182/200\n",
      "319/319 [==============================] - 1s 2ms/step - loss: 0.4413 - accuracy: 0.7869 - val_loss: 0.4394 - val_accuracy: 0.7995\n",
      "Epoch 183/200\n",
      "319/319 [==============================] - 1s 2ms/step - loss: 0.4427 - accuracy: 0.7899 - val_loss: 0.4390 - val_accuracy: 0.7995\n",
      "Epoch 184/200\n",
      "319/319 [==============================] - 1s 2ms/step - loss: 0.4407 - accuracy: 0.7876 - val_loss: 0.4474 - val_accuracy: 0.7853\n",
      "Epoch 185/200\n",
      "319/319 [==============================] - 1s 2ms/step - loss: 0.4387 - accuracy: 0.7894 - val_loss: 0.4413 - val_accuracy: 0.8014\n",
      "Epoch 186/200\n",
      "319/319 [==============================] - 1s 2ms/step - loss: 0.4448 - accuracy: 0.7885 - val_loss: 0.4461 - val_accuracy: 0.7912\n",
      "Epoch 187/200\n",
      "319/319 [==============================] - 1s 2ms/step - loss: 0.4398 - accuracy: 0.7891 - val_loss: 0.4447 - val_accuracy: 0.7900\n",
      "Epoch 188/200\n",
      "319/319 [==============================] - 1s 2ms/step - loss: 0.4398 - accuracy: 0.7943 - val_loss: 0.4419 - val_accuracy: 0.7947\n",
      "Epoch 189/200\n",
      "319/319 [==============================] - 1s 2ms/step - loss: 0.4401 - accuracy: 0.7904 - val_loss: 0.4381 - val_accuracy: 0.7987\n",
      "Epoch 190/200\n",
      "319/319 [==============================] - 1s 2ms/step - loss: 0.4428 - accuracy: 0.7871 - val_loss: 0.4351 - val_accuracy: 0.7995\n",
      "Epoch 191/200\n",
      "319/319 [==============================] - 1s 2ms/step - loss: 0.4425 - accuracy: 0.7865 - val_loss: 0.4344 - val_accuracy: 0.7995\n",
      "Epoch 192/200\n",
      "319/319 [==============================] - 1s 2ms/step - loss: 0.4406 - accuracy: 0.7855 - val_loss: 0.4371 - val_accuracy: 0.7987\n",
      "Epoch 193/200\n",
      "319/319 [==============================] - 1s 2ms/step - loss: 0.4370 - accuracy: 0.7910 - val_loss: 0.4388 - val_accuracy: 0.7967\n",
      "Epoch 194/200\n",
      "319/319 [==============================] - 1s 2ms/step - loss: 0.4392 - accuracy: 0.7867 - val_loss: 0.4433 - val_accuracy: 0.8014\n",
      "Epoch 195/200\n",
      "319/319 [==============================] - 1s 2ms/step - loss: 0.4426 - accuracy: 0.7858 - val_loss: 0.4368 - val_accuracy: 0.8022\n",
      "Epoch 196/200\n",
      "319/319 [==============================] - 1s 2ms/step - loss: 0.4425 - accuracy: 0.7866 - val_loss: 0.4530 - val_accuracy: 0.7841\n",
      "Epoch 197/200\n",
      "319/319 [==============================] - 1s 2ms/step - loss: 0.4440 - accuracy: 0.7890 - val_loss: 0.4431 - val_accuracy: 0.7998\n",
      "Epoch 198/200\n",
      "319/319 [==============================] - 1s 2ms/step - loss: 0.4403 - accuracy: 0.7881 - val_loss: 0.4332 - val_accuracy: 0.8026\n",
      "Epoch 199/200\n",
      "319/319 [==============================] - 1s 3ms/step - loss: 0.4435 - accuracy: 0.7865 - val_loss: 0.4448 - val_accuracy: 0.7943\n",
      "Epoch 200/200\n",
      "319/319 [==============================] - 1s 2ms/step - loss: 0.4401 - accuracy: 0.7900 - val_loss: 0.4371 - val_accuracy: 0.7959\n"
     ]
    }
   ],
   "source": [
    "history = model.fit(X_train,y_train,batch_size=32,epochs=200,validation_split=0.2)"
   ]
  },
  {
   "cell_type": "code",
   "execution_count": 25,
   "id": "92342772",
   "metadata": {
    "execution": {
     "iopub.execute_input": "2023-11-01T18:39:58.300105Z",
     "iopub.status.busy": "2023-11-01T18:39:58.299687Z",
     "iopub.status.idle": "2023-11-01T18:39:58.607246Z",
     "shell.execute_reply": "2023-11-01T18:39:58.606183Z"
    },
    "papermill": {
     "duration": 0.574352,
     "end_time": "2023-11-01T18:39:58.609896",
     "exception": false,
     "start_time": "2023-11-01T18:39:58.035544",
     "status": "completed"
    },
    "tags": []
   },
   "outputs": [
    {
     "data": {
      "image/png": "[encoded data removed]",
      "text/plain": [
       "<Figure size 640x480 with 1 Axes>"
      ]
     },
     "metadata": {},
     "output_type": "display_data"
    }
   ],
   "source": [
    "plt.plot(history.history['loss'])\n",
    "plt.plot(history.history['val_loss'])\n",
    "plt.show()"
   ]
  },
  {
   "cell_type": "code",
   "execution_count": 26,
   "id": "3a2ef68e",
   "metadata": {
    "execution": {
     "iopub.execute_input": "2023-11-01T18:39:59.139358Z",
     "iopub.status.busy": "2023-11-01T18:39:59.138935Z",
     "iopub.status.idle": "2023-11-01T18:39:59.399595Z",
     "shell.execute_reply": "2023-11-01T18:39:59.398299Z"
    },
    "papermill": {
     "duration": 0.531129,
     "end_time": "2023-11-01T18:39:59.401834",
     "exception": false,
     "start_time": "2023-11-01T18:39:58.870705",
     "status": "completed"
    },
    "tags": []
   },
   "outputs": [
    {
     "data": {
      "image/png": "[encoded data removed]",
      "text/plain": [
       "<Figure size 640x480 with 1 Axes>"
      ]
     },
     "metadata": {},
     "output_type": "display_data"
    }
   ],
   "source": [
    "plt.plot(history.history['accuracy'])\n",
    "plt.plot(history.history['val_accuracy'])\n",
    "plt.show()"
   ]
  },
  {
   "cell_type": "code",
   "execution_count": 27,
   "id": "4940834c",
   "metadata": {
    "execution": {
     "iopub.execute_input": "2023-11-01T18:39:59.934792Z",
     "iopub.status.busy": "2023-11-01T18:39:59.934385Z",
     "iopub.status.idle": "2023-11-01T18:40:00.286762Z",
     "shell.execute_reply": "2023-11-01T18:40:00.285581Z"
    },
    "papermill": {
     "duration": 0.621272,
     "end_time": "2023-11-01T18:40:00.289763",
     "exception": false,
     "start_time": "2023-11-01T18:39:59.668491",
     "status": "completed"
    },
    "tags": []
   },
   "outputs": [
    {
     "name": "stdout",
     "output_type": "stream",
     "text": [
      "100/100 [==============================] - 0s 1ms/step\n"
     ]
    }
   ],
   "source": [
    "y_pred = model.predict(X_test)\n",
    "y_pred = (y_pred > 0.5).astype(int)"
   ]
  },
  {
   "cell_type": "code",
   "execution_count": 28,
   "id": "a0d9dc9e",
   "metadata": {
    "execution": {
     "iopub.execute_input": "2023-11-01T18:40:00.823909Z",
     "iopub.status.busy": "2023-11-01T18:40:00.822882Z",
     "iopub.status.idle": "2023-11-01T18:40:00.842173Z",
     "shell.execute_reply": "2023-11-01T18:40:00.840932Z"
    },
    "papermill": {
     "duration": 0.286884,
     "end_time": "2023-11-01T18:40:00.844529",
     "exception": false,
     "start_time": "2023-11-01T18:40:00.557645",
     "status": "completed"
    },
    "tags": []
   },
   "outputs": [
    {
     "name": "stdout",
     "output_type": "stream",
     "text": [
      "              precision    recall  f1-score   support\n",
      "\n",
      "           0       0.79      0.83      0.81      1534\n",
      "           1       0.83      0.79      0.81      1652\n",
      "\n",
      "    accuracy                           0.81      3186\n",
      "   macro avg       0.81      0.81      0.81      3186\n",
      "weighted avg       0.81      0.81      0.81      3186\n",
      "\n"
     ]
    }
   ],
   "source": [
    "print(classification_report(y_test,y_pred))"
   ]
  },
  {
   "cell_type": "code",
   "execution_count": 29,
   "id": "71d63eb6",
   "metadata": {
    "execution": {
     "iopub.execute_input": "2023-11-01T18:40:01.379637Z",
     "iopub.status.busy": "2023-11-01T18:40:01.378903Z",
     "iopub.status.idle": "2023-11-01T18:40:01.661308Z",
     "shell.execute_reply": "2023-11-01T18:40:01.660067Z"
    },
    "papermill": {
     "duration": 0.550504,
     "end_time": "2023-11-01T18:40:01.663901",
     "exception": false,
     "start_time": "2023-11-01T18:40:01.113397",
     "status": "completed"
    },
    "tags": []
   },
   "outputs": [
    {
     "data": {
      "image/png": "[encoded data removed]",
      "text/plain": [
       "<Figure size 640x480 with 2 Axes>"
      ]
     },
     "metadata": {},
     "output_type": "display_data"
    }
   ],
   "source": [
    "cm = confusion_matrix(y_test, y_pred)\n",
    "sns.heatmap(cm,annot=True,fmt='d')\n",
    "plt.xlabel('Predicted')\n",
    "plt.ylabel('Truth')\n",
    "plt.show()"
   ]
  }
 ],
 "metadata": {
  "kernelspec": {
   "display_name": "Python 3",
   "language": "python",
   "name": "python3"
  },
  "language_info": {
   "codemirror_mode": {
    "name": "ipython",
    "version": 3
   },
   "file_extension": ".py",
   "mimetype": "text/x-python",
   "name": "python",
   "nbconvert_exporter": "python",
   "pygments_lexer": "ipython3",
   "version": "3.10.12"
  },
  "papermill": {
   "default_parameters": {},
   "duration": 167.589712,
   "end_time": "2023-11-01T18:40:04.490538",
   "environment_variables": {},
   "exception": null,
   "input_path": "__notebook__.ipynb",
   "output_path": "__notebook__.ipynb",
   "parameters": {},
   "start_time": "2023-11-01T18:37:16.900826",
   "version": "2.4.0"
  }
 },
 "nbformat": 4,
 "nbformat_minor": 5
}
