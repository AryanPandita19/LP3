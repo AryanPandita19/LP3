{
 "cells": [
  {
   "cell_type": "code",
   "execution_count": 1,
   "id": "2d60201e",
   "metadata": {
    "_cell_guid": "b1076dfc-b9ad-4769-8c92-a6c4dae69d19",
    "_uuid": "8f2839f25d086af736a60e9eeb907d3b93b6e0e5",
    "execution": {
     "iopub.execute_input": "2023-10-13T14:43:06.996040Z",
     "iopub.status.busy": "2023-10-13T14:43:06.995674Z",
     "iopub.status.idle": "2023-10-13T14:43:07.352981Z",
     "shell.execute_reply": "2023-10-13T14:43:07.351889Z"
    },
    "papermill": {
     "duration": 0.365151,
     "end_time": "2023-10-13T14:43:07.355532",
     "exception": false,
     "start_time": "2023-10-13T14:43:06.990381",
     "status": "completed"
    },
    "tags": []
   },
   "outputs": [
    {
     "name": "stdout",
     "output_type": "stream",
     "text": [
      "/kaggle/input/diabetes/diabetes.csv\n"
     ]
    }
   ],
   "source": [
    "# This Python 3 environment comes with many helpful analytics libraries installed\n",
    "# It is defined by the kaggle/python Docker image: https://github.com/kaggle/docker-python\n",
    "# For example, here's several helpful packages to load\n",
    "\n",
    "import numpy as np # linear algebra\n",
    "import pandas as pd # data processing, CSV file I/O (e.g. pd.read_csv)\n",
    "\n",
    "# Input data files are available in the read-only \"../input/\" directory\n",
    "# For example, running this (by clicking run or pressing Shift+Enter) will list all files under the input directory\n",
    "\n",
    "import os\n",
    "for dirname, _, filenames in os.walk('/kaggle/input'):\n",
    "    for filename in filenames:\n",
    "        print(os.path.join(dirname, filename))\n",
    "\n",
    "# You can write up to 20GB to the current directory (/kaggle/working/) that gets preserved as output when you create a version using \"Save & Run All\" \n",
    "# You can also write temporary files to /kaggle/temp/, but they won't be saved outside of the current session"
   ]
  },
  {
   "cell_type": "markdown",
   "id": "7a726f5a",
   "metadata": {
    "papermill": {
     "duration": 0.002823,
     "end_time": "2023-10-13T14:43:07.363466",
     "exception": false,
     "start_time": "2023-10-13T14:43:07.360643",
     "status": "completed"
    },
    "tags": []
   },
   "source": [
    "# import dataset"
   ]
  },
  {
   "cell_type": "code",
   "execution_count": 2,
   "id": "2d953fe5",
   "metadata": {
    "execution": {
     "iopub.execute_input": "2023-10-13T14:43:07.371350Z",
     "iopub.status.busy": "2023-10-13T14:43:07.370670Z",
     "iopub.status.idle": "2023-10-13T14:43:07.410864Z",
     "shell.execute_reply": "2023-10-13T14:43:07.409722Z"
    },
    "papermill": {
     "duration": 0.046549,
     "end_time": "2023-10-13T14:43:07.412977",
     "exception": false,
     "start_time": "2023-10-13T14:43:07.366428",
     "status": "completed"
    },
    "tags": []
   },
   "outputs": [
    {
     "data": {
      "text/html": [
       "<div>\n",
       "<style scoped>\n",
       "    .dataframe tbody tr th:only-of-type {\n",
       "        vertical-align: middle;\n",
       "    }\n",
       "\n",
       "    .dataframe tbody tr th {\n",
       "        vertical-align: top;\n",
       "    }\n",
       "\n",
       "    .dataframe thead th {\n",
       "        text-align: right;\n",
       "    }\n",
       "</style>\n",
       "<table border=\"1\" class=\"dataframe\">\n",
       "  <thead>\n",
       "    <tr style=\"text-align: right;\">\n",
       "      <th></th>\n",
       "      <th>Pregnancies</th>\n",
       "      <th>Glucose</th>\n",
       "      <th>BloodPressure</th>\n",
       "      <th>SkinThickness</th>\n",
       "      <th>Insulin</th>\n",
       "      <th>BMI</th>\n",
       "      <th>Pedigree</th>\n",
       "      <th>Age</th>\n",
       "      <th>Outcome</th>\n",
       "    </tr>\n",
       "  </thead>\n",
       "  <tbody>\n",
       "    <tr>\n",
       "      <th>0</th>\n",
       "      <td>6</td>\n",
       "      <td>148</td>\n",
       "      <td>72</td>\n",
       "      <td>35</td>\n",
       "      <td>0</td>\n",
       "      <td>33.6</td>\n",
       "      <td>0.627</td>\n",
       "      <td>50</td>\n",
       "      <td>1</td>\n",
       "    </tr>\n",
       "    <tr>\n",
       "      <th>1</th>\n",
       "      <td>1</td>\n",
       "      <td>85</td>\n",
       "      <td>66</td>\n",
       "      <td>29</td>\n",
       "      <td>0</td>\n",
       "      <td>26.6</td>\n",
       "      <td>0.351</td>\n",
       "      <td>31</td>\n",
       "      <td>0</td>\n",
       "    </tr>\n",
       "    <tr>\n",
       "      <th>2</th>\n",
       "      <td>8</td>\n",
       "      <td>183</td>\n",
       "      <td>64</td>\n",
       "      <td>0</td>\n",
       "      <td>0</td>\n",
       "      <td>23.3</td>\n",
       "      <td>0.672</td>\n",
       "      <td>32</td>\n",
       "      <td>1</td>\n",
       "    </tr>\n",
       "    <tr>\n",
       "      <th>3</th>\n",
       "      <td>1</td>\n",
       "      <td>89</td>\n",
       "      <td>66</td>\n",
       "      <td>23</td>\n",
       "      <td>94</td>\n",
       "      <td>28.1</td>\n",
       "      <td>0.167</td>\n",
       "      <td>21</td>\n",
       "      <td>0</td>\n",
       "    </tr>\n",
       "    <tr>\n",
       "      <th>4</th>\n",
       "      <td>0</td>\n",
       "      <td>137</td>\n",
       "      <td>40</td>\n",
       "      <td>35</td>\n",
       "      <td>168</td>\n",
       "      <td>43.1</td>\n",
       "      <td>2.288</td>\n",
       "      <td>33</td>\n",
       "      <td>1</td>\n",
       "    </tr>\n",
       "  </tbody>\n",
       "</table>\n",
       "</div>"
      ],
      "text/plain": [
       "   Pregnancies  Glucose  BloodPressure  SkinThickness  Insulin   BMI  \\\n",
       "0            6      148             72             35        0  33.6   \n",
       "1            1       85             66             29        0  26.6   \n",
       "2            8      183             64              0        0  23.3   \n",
       "3            1       89             66             23       94  28.1   \n",
       "4            0      137             40             35      168  43.1   \n",
       "\n",
       "   Pedigree  Age  Outcome  \n",
       "0     0.627   50        1  \n",
       "1     0.351   31        0  \n",
       "2     0.672   32        1  \n",
       "3     0.167   21        0  \n",
       "4     2.288   33        1  "
      ]
     },
     "execution_count": 2,
     "metadata": {},
     "output_type": "execute_result"
    }
   ],
   "source": [
    "import pandas as pd\n",
    "import numpy as np\n",
    "data = pd.read_csv('/kaggle/input/diabetes/diabetes.csv')\n",
    "data.head()"
   ]
  },
  {
   "cell_type": "markdown",
   "id": "c4598731",
   "metadata": {
    "papermill": {
     "duration": 0.00305,
     "end_time": "2023-10-13T14:43:07.419471",
     "exception": false,
     "start_time": "2023-10-13T14:43:07.416421",
     "status": "completed"
    },
    "tags": []
   },
   "source": [
    "# split the data in to features and labels"
   ]
  },
  {
   "cell_type": "code",
   "execution_count": 3,
   "id": "42037bf6",
   "metadata": {
    "execution": {
     "iopub.execute_input": "2023-10-13T14:43:07.427665Z",
     "iopub.status.busy": "2023-10-13T14:43:07.427338Z",
     "iopub.status.idle": "2023-10-13T14:43:07.439959Z",
     "shell.execute_reply": "2023-10-13T14:43:07.439223Z"
    },
    "papermill": {
     "duration": 0.019218,
     "end_time": "2023-10-13T14:43:07.442156",
     "exception": false,
     "start_time": "2023-10-13T14:43:07.422938",
     "status": "completed"
    },
    "tags": []
   },
   "outputs": [],
   "source": [
    "X = data.drop('Outcome', axis=1)\n",
    "y = data['Outcome']"
   ]
  },
  {
   "cell_type": "markdown",
   "id": "841af492",
   "metadata": {
    "papermill": {
     "duration": 0.003125,
     "end_time": "2023-10-13T14:43:07.448651",
     "exception": false,
     "start_time": "2023-10-13T14:43:07.445526",
     "status": "completed"
    },
    "tags": []
   },
   "source": [
    "# split the data in to train test split"
   ]
  },
  {
   "cell_type": "code",
   "execution_count": 4,
   "id": "c06da105",
   "metadata": {
    "execution": {
     "iopub.execute_input": "2023-10-13T14:43:07.457950Z",
     "iopub.status.busy": "2023-10-13T14:43:07.457159Z",
     "iopub.status.idle": "2023-10-13T14:43:08.559625Z",
     "shell.execute_reply": "2023-10-13T14:43:08.558809Z"
    },
    "papermill": {
     "duration": 1.109701,
     "end_time": "2023-10-13T14:43:08.561901",
     "exception": false,
     "start_time": "2023-10-13T14:43:07.452200",
     "status": "completed"
    },
    "tags": []
   },
   "outputs": [],
   "source": [
    "from sklearn.model_selection import train_test_split\n",
    "X_train, X_test, y_train, y_test = train_test_split(X, y, test_size=0.2,random_state=42)"
   ]
  },
  {
   "cell_type": "markdown",
   "id": "88f034e4",
   "metadata": {
    "papermill": {
     "duration": 0.003043,
     "end_time": "2023-10-13T14:43:08.568366",
     "exception": false,
     "start_time": "2023-10-13T14:43:08.565323",
     "status": "completed"
    },
    "tags": []
   },
   "source": [
    "# creating a model"
   ]
  },
  {
   "cell_type": "code",
   "execution_count": 5,
   "id": "4b288e43",
   "metadata": {
    "execution": {
     "iopub.execute_input": "2023-10-13T14:43:08.576669Z",
     "iopub.status.busy": "2023-10-13T14:43:08.575791Z",
     "iopub.status.idle": "2023-10-13T14:43:08.873544Z",
     "shell.execute_reply": "2023-10-13T14:43:08.872515Z"
    },
    "papermill": {
     "duration": 0.304105,
     "end_time": "2023-10-13T14:43:08.875659",
     "exception": false,
     "start_time": "2023-10-13T14:43:08.571554",
     "status": "completed"
    },
    "tags": []
   },
   "outputs": [
    {
     "data": {
      "text/html": [
       "<style>#sk-container-id-1 {color: black;background-color: white;}#sk-container-id-1 pre{padding: 0;}#sk-container-id-1 div.sk-toggleable {background-color: white;}#sk-container-id-1 label.sk-toggleable__label {cursor: pointer;display: block;width: 100%;margin-bottom: 0;padding: 0.3em;box-sizing: border-box;text-align: center;}#sk-container-id-1 label.sk-toggleable__label-arrow:before {content: \"▸\";float: left;margin-right: 0.25em;color: #696969;}#sk-container-id-1 label.sk-toggleable__label-arrow:hover:before {color: black;}#sk-container-id-1 div.sk-estimator:hover label.sk-toggleable__label-arrow:before {color: black;}#sk-container-id-1 div.sk-toggleable__content {max-height: 0;max-width: 0;overflow: hidden;text-align: left;background-color: #f0f8ff;}#sk-container-id-1 div.sk-toggleable__content pre {margin: 0.2em;color: black;border-radius: 0.25em;background-color: #f0f8ff;}#sk-container-id-1 input.sk-toggleable__control:checked~div.sk-toggleable__content {max-height: 200px;max-width: 100%;overflow: auto;}#sk-container-id-1 input.sk-toggleable__control:checked~label.sk-toggleable__label-arrow:before {content: \"▾\";}#sk-container-id-1 div.sk-estimator input.sk-toggleable__control:checked~label.sk-toggleable__label {background-color: #d4ebff;}#sk-container-id-1 div.sk-label input.sk-toggleable__control:checked~label.sk-toggleable__label {background-color: #d4ebff;}#sk-container-id-1 input.sk-hidden--visually {border: 0;clip: rect(1px 1px 1px 1px);clip: rect(1px, 1px, 1px, 1px);height: 1px;margin: -1px;overflow: hidden;padding: 0;position: absolute;width: 1px;}#sk-container-id-1 div.sk-estimator {font-family: monospace;background-color: #f0f8ff;border: 1px dotted black;border-radius: 0.25em;box-sizing: border-box;margin-bottom: 0.5em;}#sk-container-id-1 div.sk-estimator:hover {background-color: #d4ebff;}#sk-container-id-1 div.sk-parallel-item::after {content: \"\";width: 100%;border-bottom: 1px solid gray;flex-grow: 1;}#sk-container-id-1 div.sk-label:hover label.sk-toggleable__label {background-color: #d4ebff;}#sk-container-id-1 div.sk-serial::before {content: \"\";position: absolute;border-left: 1px solid gray;box-sizing: border-box;top: 0;bottom: 0;left: 50%;z-index: 0;}#sk-container-id-1 div.sk-serial {display: flex;flex-direction: column;align-items: center;background-color: white;padding-right: 0.2em;padding-left: 0.2em;position: relative;}#sk-container-id-1 div.sk-item {position: relative;z-index: 1;}#sk-container-id-1 div.sk-parallel {display: flex;align-items: stretch;justify-content: center;background-color: white;position: relative;}#sk-container-id-1 div.sk-item::before, #sk-container-id-1 div.sk-parallel-item::before {content: \"\";position: absolute;border-left: 1px solid gray;box-sizing: border-box;top: 0;bottom: 0;left: 50%;z-index: -1;}#sk-container-id-1 div.sk-parallel-item {display: flex;flex-direction: column;z-index: 1;position: relative;background-color: white;}#sk-container-id-1 div.sk-parallel-item:first-child::after {align-self: flex-end;width: 50%;}#sk-container-id-1 div.sk-parallel-item:last-child::after {align-self: flex-start;width: 50%;}#sk-container-id-1 div.sk-parallel-item:only-child::after {width: 0;}#sk-container-id-1 div.sk-dashed-wrapped {border: 1px dashed gray;margin: 0 0.4em 0.5em 0.4em;box-sizing: border-box;padding-bottom: 0.4em;background-color: white;}#sk-container-id-1 div.sk-label label {font-family: monospace;font-weight: bold;display: inline-block;line-height: 1.2em;}#sk-container-id-1 div.sk-label-container {text-align: center;}#sk-container-id-1 div.sk-container {/* jupyter's `normalize.less` sets `[hidden] { display: none; }` but bootstrap.min.css set `[hidden] { display: none !important; }` so we also need the `!important` here to be able to override the default hidden behavior on the sphinx rendered scikit-learn.org. See: https://github.com/scikit-learn/scikit-learn/issues/21755 */display: inline-block !important;position: relative;}#sk-container-id-1 div.sk-text-repr-fallback {display: none;}</style><div id=\"sk-container-id-1\" class=\"sk-top-container\"><div class=\"sk-text-repr-fallback\"><pre>KNeighborsClassifier(n_neighbors=3)</pre><b>In a Jupyter environment, please rerun this cell to show the HTML representation or trust the notebook. <br />On GitHub, the HTML representation is unable to render, please try loading this page with nbviewer.org.</b></div><div class=\"sk-container\" hidden><div class=\"sk-item\"><div class=\"sk-estimator sk-toggleable\"><input class=\"sk-toggleable__control sk-hidden--visually\" id=\"sk-estimator-id-1\" type=\"checkbox\" checked><label for=\"sk-estimator-id-1\" class=\"sk-toggleable__label sk-toggleable__label-arrow\">KNeighborsClassifier</label><div class=\"sk-toggleable__content\"><pre>KNeighborsClassifier(n_neighbors=3)</pre></div></div></div></div></div>"
      ],
      "text/plain": [
       "KNeighborsClassifier(n_neighbors=3)"
      ]
     },
     "execution_count": 5,
     "metadata": {},
     "output_type": "execute_result"
    }
   ],
   "source": [
    "from sklearn.neighbors import KNeighborsClassifier\n",
    "clf = KNeighborsClassifier(n_neighbors=3)\n",
    "clf"
   ]
  },
  {
   "cell_type": "code",
   "execution_count": 6,
   "id": "8e70b699",
   "metadata": {
    "execution": {
     "iopub.execute_input": "2023-10-13T14:43:08.884867Z",
     "iopub.status.busy": "2023-10-13T14:43:08.884520Z",
     "iopub.status.idle": "2023-10-13T14:43:08.903480Z",
     "shell.execute_reply": "2023-10-13T14:43:08.902620Z"
    },
    "papermill": {
     "duration": 0.02609,
     "end_time": "2023-10-13T14:43:08.905741",
     "exception": false,
     "start_time": "2023-10-13T14:43:08.879651",
     "status": "completed"
    },
    "tags": []
   },
   "outputs": [],
   "source": [
    "KNN=clf.fit(X_train,y_train)\n",
    "prediction=KNN.predict(X_test)"
   ]
  },
  {
   "cell_type": "markdown",
   "id": "3325cace",
   "metadata": {
    "papermill": {
     "duration": 0.003296,
     "end_time": "2023-10-13T14:43:08.912651",
     "exception": false,
     "start_time": "2023-10-13T14:43:08.909355",
     "status": "completed"
    },
    "tags": []
   },
   "source": [
    "# confusion matrix"
   ]
  },
  {
   "cell_type": "code",
   "execution_count": 7,
   "id": "08440adb",
   "metadata": {
    "execution": {
     "iopub.execute_input": "2023-10-13T14:43:08.921419Z",
     "iopub.status.busy": "2023-10-13T14:43:08.920537Z",
     "iopub.status.idle": "2023-10-13T14:43:08.935462Z",
     "shell.execute_reply": "2023-10-13T14:43:08.934328Z"
    },
    "papermill": {
     "duration": 0.0214,
     "end_time": "2023-10-13T14:43:08.937431",
     "exception": false,
     "start_time": "2023-10-13T14:43:08.916031",
     "status": "completed"
    },
    "tags": []
   },
   "outputs": [
    {
     "name": "stdout",
     "output_type": "stream",
     "text": [
      "              precision    recall  f1-score   support\n",
      "\n",
      "           0       0.76      0.66      0.71        99\n",
      "           1       0.51      0.64      0.56        55\n",
      "\n",
      "    accuracy                           0.65       154\n",
      "   macro avg       0.64      0.65      0.64       154\n",
      "weighted avg       0.67      0.65      0.66       154\n",
      "\n",
      "[[65 34]\n",
      " [20 35]]\n"
     ]
    }
   ],
   "source": [
    "#Measuring accuracy on Testing Data\n",
    "from sklearn import metrics\n",
    "print(metrics.classification_report(y_test, prediction))\n",
    "print(metrics.confusion_matrix(y_test, prediction))"
   ]
  },
  {
   "cell_type": "code",
   "execution_count": 8,
   "id": "6069ff96",
   "metadata": {
    "execution": {
     "iopub.execute_input": "2023-10-13T14:43:08.945933Z",
     "iopub.status.busy": "2023-10-13T14:43:08.945592Z",
     "iopub.status.idle": "2023-10-13T14:43:08.952136Z",
     "shell.execute_reply": "2023-10-13T14:43:08.951167Z"
    },
    "papermill": {
     "duration": 0.013085,
     "end_time": "2023-10-13T14:43:08.954143",
     "exception": false,
     "start_time": "2023-10-13T14:43:08.941058",
     "status": "completed"
    },
    "tags": []
   },
   "outputs": [
    {
     "name": "stdout",
     "output_type": "stream",
     "text": [
      "accuracy: 0.6493506493506493\n"
     ]
    }
   ],
   "source": [
    "print(\"accuracy:\",metrics.accuracy_score(y_test,prediction))"
   ]
  },
  {
   "cell_type": "code",
   "execution_count": null,
   "id": "62b6782b",
   "metadata": {
    "papermill": {
     "duration": 0.003392,
     "end_time": "2023-10-13T14:43:08.961359",
     "exception": false,
     "start_time": "2023-10-13T14:43:08.957967",
     "status": "completed"
    },
    "tags": []
   },
   "outputs": [],
   "source": []
  }
 ],
 "metadata": {
  "kernelspec": {
   "display_name": "Python 3",
   "language": "python",
   "name": "python3"
  },
  "language_info": {
   "codemirror_mode": {
    "name": "ipython",
    "version": 3
   },
   "file_extension": ".py",
   "mimetype": "text/x-python",
   "name": "python",
   "nbconvert_exporter": "python",
   "pygments_lexer": "ipython3",
   "version": "3.10.12"
  },
  "papermill": {
   "default_parameters": {},
   "duration": 5.455313,
   "end_time": "2023-10-13T14:43:09.484437",
   "environment_variables": {},
   "exception": null,
   "input_path": "__notebook__.ipynb",
   "output_path": "__notebook__.ipynb",
   "parameters": {},
   "start_time": "2023-10-13T14:43:04.029124",
   "version": "2.4.0"
  }
 },
 "nbformat": 4,
 "nbformat_minor": 5
}
